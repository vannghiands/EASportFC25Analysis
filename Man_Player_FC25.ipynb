{
 "cells": [
  {
   "cell_type": "code",
   "execution_count": 1,
   "metadata": {
    "executionInfo": {
     "elapsed": 2018,
     "status": "ok",
     "timestamp": 1727615042301,
     "user": {
      "displayName": "Nghia Nguyen",
      "userId": "09671047802048051440"
     },
     "user_tz": -420
    },
    "id": "2qlmXs9aM2lV"
   },
   "outputs": [],
   "source": [
    "import pandas as pd\n",
    "import numpy as np\n",
    "import matplotlib.pyplot as plt\n",
    "import seaborn as sns\n",
    "import warnings\n",
    "warnings.filterwarnings('ignore')"
   ]
  },
  {
   "cell_type": "markdown",
   "metadata": {
    "id": "q9XMxPKAXhXp"
   },
   "source": [
    "### 1. Read file csv: EA SPORTS FC 25 DATABASE, RATINGS AND STATS-Men Player"
   ]
  },
  {
   "cell_type": "code",
   "execution_count": 2,
   "metadata": {
    "colab": {
     "base_uri": "https://localhost:8080/",
     "height": 964
    },
    "executionInfo": {
     "elapsed": 2707,
     "status": "ok",
     "timestamp": 1727615082864,
     "user": {
      "displayName": "Nghia Nguyen",
      "userId": "09671047802048051440"
     },
     "user_tz": -420
    },
    "id": "yHQpI5U2NTeK",
    "outputId": "38c23a9b-0e5b-4eea-ecef-9b37dc4bffaa"
   },
   "outputs": [
    {
     "data": {
      "text/html": [
       "<div>\n",
       "<style scoped>\n",
       "    .dataframe tbody tr th:only-of-type {\n",
       "        vertical-align: middle;\n",
       "    }\n",
       "\n",
       "    .dataframe tbody tr th {\n",
       "        vertical-align: top;\n",
       "    }\n",
       "\n",
       "    .dataframe thead th {\n",
       "        text-align: right;\n",
       "    }\n",
       "</style>\n",
       "<table border=\"1\" class=\"dataframe\">\n",
       "  <thead>\n",
       "    <tr style=\"text-align: right;\">\n",
       "      <th></th>\n",
       "      <th>Unnamed: 0</th>\n",
       "      <th>Rank</th>\n",
       "      <th>Name</th>\n",
       "      <th>OVR</th>\n",
       "      <th>PAC</th>\n",
       "      <th>SHO</th>\n",
       "      <th>PAS</th>\n",
       "      <th>DRI</th>\n",
       "      <th>DEF</th>\n",
       "      <th>PHY</th>\n",
       "      <th>...</th>\n",
       "      <th>Nation</th>\n",
       "      <th>League</th>\n",
       "      <th>Team</th>\n",
       "      <th>play style</th>\n",
       "      <th>url</th>\n",
       "      <th>GK Diving</th>\n",
       "      <th>GK Handling</th>\n",
       "      <th>GK Kicking</th>\n",
       "      <th>GK Positioning</th>\n",
       "      <th>GK Reflexes</th>\n",
       "    </tr>\n",
       "  </thead>\n",
       "  <tbody>\n",
       "    <tr>\n",
       "      <th>0</th>\n",
       "      <td>0</td>\n",
       "      <td>1</td>\n",
       "      <td>Kylian Mbappé</td>\n",
       "      <td>91</td>\n",
       "      <td>97</td>\n",
       "      <td>90</td>\n",
       "      <td>80</td>\n",
       "      <td>92</td>\n",
       "      <td>36</td>\n",
       "      <td>78</td>\n",
       "      <td>...</td>\n",
       "      <td>France</td>\n",
       "      <td>LALIGA EA SPORTS</td>\n",
       "      <td>Real Madrid</td>\n",
       "      <td>Quick Step+, Acrobatic, Finesse Shot, Flair, R...</td>\n",
       "      <td>https://www.ea.com/games/ea-sports-fc/ratings/...</td>\n",
       "      <td>NaN</td>\n",
       "      <td>NaN</td>\n",
       "      <td>NaN</td>\n",
       "      <td>NaN</td>\n",
       "      <td>NaN</td>\n",
       "    </tr>\n",
       "    <tr>\n",
       "      <th>1</th>\n",
       "      <td>1</td>\n",
       "      <td>2</td>\n",
       "      <td>Rodri</td>\n",
       "      <td>91</td>\n",
       "      <td>66</td>\n",
       "      <td>80</td>\n",
       "      <td>86</td>\n",
       "      <td>84</td>\n",
       "      <td>87</td>\n",
       "      <td>85</td>\n",
       "      <td>...</td>\n",
       "      <td>Spain</td>\n",
       "      <td>Premier League</td>\n",
       "      <td>Manchester City</td>\n",
       "      <td>Tiki Taka+, Aerial, Bruiser, Long Ball Pass, P...</td>\n",
       "      <td>https://www.ea.com/games/ea-sports-fc/ratings/...</td>\n",
       "      <td>NaN</td>\n",
       "      <td>NaN</td>\n",
       "      <td>NaN</td>\n",
       "      <td>NaN</td>\n",
       "      <td>NaN</td>\n",
       "    </tr>\n",
       "    <tr>\n",
       "      <th>2</th>\n",
       "      <td>2</td>\n",
       "      <td>4</td>\n",
       "      <td>Erling Haaland</td>\n",
       "      <td>91</td>\n",
       "      <td>88</td>\n",
       "      <td>92</td>\n",
       "      <td>70</td>\n",
       "      <td>81</td>\n",
       "      <td>45</td>\n",
       "      <td>88</td>\n",
       "      <td>...</td>\n",
       "      <td>Norway</td>\n",
       "      <td>Premier League</td>\n",
       "      <td>Manchester City</td>\n",
       "      <td>Acrobatic+, Bruiser, Power Header, Power Shot,...</td>\n",
       "      <td>https://www.ea.com/games/ea-sports-fc/ratings/...</td>\n",
       "      <td>NaN</td>\n",
       "      <td>NaN</td>\n",
       "      <td>NaN</td>\n",
       "      <td>NaN</td>\n",
       "      <td>NaN</td>\n",
       "    </tr>\n",
       "    <tr>\n",
       "      <th>3</th>\n",
       "      <td>3</td>\n",
       "      <td>5</td>\n",
       "      <td>Jude Bellingham</td>\n",
       "      <td>90</td>\n",
       "      <td>80</td>\n",
       "      <td>87</td>\n",
       "      <td>83</td>\n",
       "      <td>88</td>\n",
       "      <td>78</td>\n",
       "      <td>83</td>\n",
       "      <td>...</td>\n",
       "      <td>England</td>\n",
       "      <td>LALIGA EA SPORTS</td>\n",
       "      <td>Real Madrid</td>\n",
       "      <td>Relentless+, Flair, Intercept, Slide Tackle, T...</td>\n",
       "      <td>https://www.ea.com/games/ea-sports-fc/ratings/...</td>\n",
       "      <td>NaN</td>\n",
       "      <td>NaN</td>\n",
       "      <td>NaN</td>\n",
       "      <td>NaN</td>\n",
       "      <td>NaN</td>\n",
       "    </tr>\n",
       "    <tr>\n",
       "      <th>4</th>\n",
       "      <td>4</td>\n",
       "      <td>7</td>\n",
       "      <td>Vini Jr.</td>\n",
       "      <td>90</td>\n",
       "      <td>95</td>\n",
       "      <td>84</td>\n",
       "      <td>81</td>\n",
       "      <td>91</td>\n",
       "      <td>29</td>\n",
       "      <td>69</td>\n",
       "      <td>...</td>\n",
       "      <td>Brazil</td>\n",
       "      <td>LALIGA EA SPORTS</td>\n",
       "      <td>Real Madrid</td>\n",
       "      <td>Quick Step+, Chip Shot, Finesse Shot, First To...</td>\n",
       "      <td>https://www.ea.com/games/ea-sports-fc/ratings/...</td>\n",
       "      <td>NaN</td>\n",
       "      <td>NaN</td>\n",
       "      <td>NaN</td>\n",
       "      <td>NaN</td>\n",
       "      <td>NaN</td>\n",
       "    </tr>\n",
       "    <tr>\n",
       "      <th>...</th>\n",
       "      <td>...</td>\n",
       "      <td>...</td>\n",
       "      <td>...</td>\n",
       "      <td>...</td>\n",
       "      <td>...</td>\n",
       "      <td>...</td>\n",
       "      <td>...</td>\n",
       "      <td>...</td>\n",
       "      <td>...</td>\n",
       "      <td>...</td>\n",
       "      <td>...</td>\n",
       "      <td>...</td>\n",
       "      <td>...</td>\n",
       "      <td>...</td>\n",
       "      <td>...</td>\n",
       "      <td>...</td>\n",
       "      <td>...</td>\n",
       "      <td>...</td>\n",
       "      <td>...</td>\n",
       "      <td>...</td>\n",
       "      <td>...</td>\n",
       "    </tr>\n",
       "    <tr>\n",
       "      <th>16156</th>\n",
       "      <td>16156</td>\n",
       "      <td>17717</td>\n",
       "      <td>Engson Singh</td>\n",
       "      <td>47</td>\n",
       "      <td>31</td>\n",
       "      <td>45</td>\n",
       "      <td>47</td>\n",
       "      <td>52</td>\n",
       "      <td>34</td>\n",
       "      <td>45</td>\n",
       "      <td>...</td>\n",
       "      <td>India</td>\n",
       "      <td>ISL</td>\n",
       "      <td>Mohun Bagan SG</td>\n",
       "      <td>NaN</td>\n",
       "      <td>https://www.ea.com/games/ea-sports-fc/ratings/...</td>\n",
       "      <td>NaN</td>\n",
       "      <td>NaN</td>\n",
       "      <td>NaN</td>\n",
       "      <td>NaN</td>\n",
       "      <td>NaN</td>\n",
       "    </tr>\n",
       "    <tr>\n",
       "      <th>16157</th>\n",
       "      <td>16157</td>\n",
       "      <td>17717</td>\n",
       "      <td>Ousmane Sylla</td>\n",
       "      <td>47</td>\n",
       "      <td>67</td>\n",
       "      <td>38</td>\n",
       "      <td>46</td>\n",
       "      <td>45</td>\n",
       "      <td>40</td>\n",
       "      <td>55</td>\n",
       "      <td>...</td>\n",
       "      <td>Senegal</td>\n",
       "      <td>MLS</td>\n",
       "      <td>Houston Dynamo</td>\n",
       "      <td>NaN</td>\n",
       "      <td>https://www.ea.com/games/ea-sports-fc/ratings/...</td>\n",
       "      <td>NaN</td>\n",
       "      <td>NaN</td>\n",
       "      <td>NaN</td>\n",
       "      <td>NaN</td>\n",
       "      <td>NaN</td>\n",
       "    </tr>\n",
       "    <tr>\n",
       "      <th>16158</th>\n",
       "      <td>16158</td>\n",
       "      <td>17717</td>\n",
       "      <td>Wei Feng</td>\n",
       "      <td>47</td>\n",
       "      <td>57</td>\n",
       "      <td>47</td>\n",
       "      <td>38</td>\n",
       "      <td>50</td>\n",
       "      <td>43</td>\n",
       "      <td>49</td>\n",
       "      <td>...</td>\n",
       "      <td>China PR</td>\n",
       "      <td>CSL</td>\n",
       "      <td>Changchun Yatai</td>\n",
       "      <td>NaN</td>\n",
       "      <td>https://www.ea.com/games/ea-sports-fc/ratings/...</td>\n",
       "      <td>NaN</td>\n",
       "      <td>NaN</td>\n",
       "      <td>NaN</td>\n",
       "      <td>NaN</td>\n",
       "      <td>NaN</td>\n",
       "    </tr>\n",
       "    <tr>\n",
       "      <th>16159</th>\n",
       "      <td>16159</td>\n",
       "      <td>17717</td>\n",
       "      <td>Won Hui Do</td>\n",
       "      <td>47</td>\n",
       "      <td>66</td>\n",
       "      <td>35</td>\n",
       "      <td>46</td>\n",
       "      <td>46</td>\n",
       "      <td>41</td>\n",
       "      <td>64</td>\n",
       "      <td>...</td>\n",
       "      <td>Korea Republic</td>\n",
       "      <td>K League 1</td>\n",
       "      <td>Jeju United</td>\n",
       "      <td>NaN</td>\n",
       "      <td>https://www.ea.com/games/ea-sports-fc/ratings/...</td>\n",
       "      <td>NaN</td>\n",
       "      <td>NaN</td>\n",
       "      <td>NaN</td>\n",
       "      <td>NaN</td>\n",
       "      <td>NaN</td>\n",
       "    </tr>\n",
       "    <tr>\n",
       "      <th>16160</th>\n",
       "      <td>16160</td>\n",
       "      <td>17717</td>\n",
       "      <td>Wu Yuhang</td>\n",
       "      <td>47</td>\n",
       "      <td>56</td>\n",
       "      <td>34</td>\n",
       "      <td>43</td>\n",
       "      <td>45</td>\n",
       "      <td>43</td>\n",
       "      <td>54</td>\n",
       "      <td>...</td>\n",
       "      <td>China PR</td>\n",
       "      <td>CSL</td>\n",
       "      <td>Zhejiang Pro</td>\n",
       "      <td>NaN</td>\n",
       "      <td>https://www.ea.com/games/ea-sports-fc/ratings/...</td>\n",
       "      <td>NaN</td>\n",
       "      <td>NaN</td>\n",
       "      <td>NaN</td>\n",
       "      <td>NaN</td>\n",
       "      <td>NaN</td>\n",
       "    </tr>\n",
       "  </tbody>\n",
       "</table>\n",
       "<p>16161 rows × 57 columns</p>\n",
       "</div>"
      ],
      "text/plain": [
       "       Unnamed: 0   Rank             Name  OVR  PAC  SHO  PAS  DRI  DEF  PHY  \\\n",
       "0               0      1    Kylian Mbappé   91   97   90   80   92   36   78   \n",
       "1               1      2            Rodri   91   66   80   86   84   87   85   \n",
       "2               2      4   Erling Haaland   91   88   92   70   81   45   88   \n",
       "3               3      5  Jude Bellingham   90   80   87   83   88   78   83   \n",
       "4               4      7         Vini Jr.   90   95   84   81   91   29   69   \n",
       "...           ...    ...              ...  ...  ...  ...  ...  ...  ...  ...   \n",
       "16156       16156  17717     Engson Singh   47   31   45   47   52   34   45   \n",
       "16157       16157  17717    Ousmane Sylla   47   67   38   46   45   40   55   \n",
       "16158       16158  17717         Wei Feng   47   57   47   38   50   43   49   \n",
       "16159       16159  17717       Won Hui Do   47   66   35   46   46   41   64   \n",
       "16160       16160  17717        Wu Yuhang   47   56   34   43   45   43   54   \n",
       "\n",
       "       ...          Nation            League             Team  \\\n",
       "0      ...          France  LALIGA EA SPORTS      Real Madrid   \n",
       "1      ...           Spain    Premier League  Manchester City   \n",
       "2      ...          Norway    Premier League  Manchester City   \n",
       "3      ...         England  LALIGA EA SPORTS      Real Madrid   \n",
       "4      ...          Brazil  LALIGA EA SPORTS      Real Madrid   \n",
       "...    ...             ...               ...              ...   \n",
       "16156  ...           India               ISL   Mohun Bagan SG   \n",
       "16157  ...         Senegal               MLS   Houston Dynamo   \n",
       "16158  ...        China PR               CSL  Changchun Yatai   \n",
       "16159  ...  Korea Republic        K League 1      Jeju United   \n",
       "16160  ...        China PR               CSL     Zhejiang Pro   \n",
       "\n",
       "                                              play style  \\\n",
       "0      Quick Step+, Acrobatic, Finesse Shot, Flair, R...   \n",
       "1      Tiki Taka+, Aerial, Bruiser, Long Ball Pass, P...   \n",
       "2      Acrobatic+, Bruiser, Power Header, Power Shot,...   \n",
       "3      Relentless+, Flair, Intercept, Slide Tackle, T...   \n",
       "4      Quick Step+, Chip Shot, Finesse Shot, First To...   \n",
       "...                                                  ...   \n",
       "16156                                                NaN   \n",
       "16157                                                NaN   \n",
       "16158                                                NaN   \n",
       "16159                                                NaN   \n",
       "16160                                                NaN   \n",
       "\n",
       "                                                     url GK Diving  \\\n",
       "0      https://www.ea.com/games/ea-sports-fc/ratings/...       NaN   \n",
       "1      https://www.ea.com/games/ea-sports-fc/ratings/...       NaN   \n",
       "2      https://www.ea.com/games/ea-sports-fc/ratings/...       NaN   \n",
       "3      https://www.ea.com/games/ea-sports-fc/ratings/...       NaN   \n",
       "4      https://www.ea.com/games/ea-sports-fc/ratings/...       NaN   \n",
       "...                                                  ...       ...   \n",
       "16156  https://www.ea.com/games/ea-sports-fc/ratings/...       NaN   \n",
       "16157  https://www.ea.com/games/ea-sports-fc/ratings/...       NaN   \n",
       "16158  https://www.ea.com/games/ea-sports-fc/ratings/...       NaN   \n",
       "16159  https://www.ea.com/games/ea-sports-fc/ratings/...       NaN   \n",
       "16160  https://www.ea.com/games/ea-sports-fc/ratings/...       NaN   \n",
       "\n",
       "      GK Handling  GK Kicking  GK Positioning GK Reflexes  \n",
       "0             NaN         NaN             NaN         NaN  \n",
       "1             NaN         NaN             NaN         NaN  \n",
       "2             NaN         NaN             NaN         NaN  \n",
       "3             NaN         NaN             NaN         NaN  \n",
       "4             NaN         NaN             NaN         NaN  \n",
       "...           ...         ...             ...         ...  \n",
       "16156         NaN         NaN             NaN         NaN  \n",
       "16157         NaN         NaN             NaN         NaN  \n",
       "16158         NaN         NaN             NaN         NaN  \n",
       "16159         NaN         NaN             NaN         NaN  \n",
       "16160         NaN         NaN             NaN         NaN  \n",
       "\n",
       "[16161 rows x 57 columns]"
      ]
     },
     "execution_count": 2,
     "metadata": {},
     "output_type": "execute_result"
    }
   ],
   "source": [
    "players = pd.read_csv('male_players.csv')\n",
    "players"
   ]
  },
  {
   "cell_type": "code",
   "execution_count": 3,
   "metadata": {
    "colab": {
     "base_uri": "https://localhost:8080/"
    },
    "executionInfo": {
     "elapsed": 477,
     "status": "ok",
     "timestamp": 1727615089412,
     "user": {
      "displayName": "Nghia Nguyen",
      "userId": "09671047802048051440"
     },
     "user_tz": -420
    },
    "id": "9UBueyoLQhQA",
    "outputId": "ab39a5d7-30fc-42a2-cf1c-eee63ec6ff27"
   },
   "outputs": [
    {
     "name": "stdout",
     "output_type": "stream",
     "text": [
      "<class 'pandas.core.frame.DataFrame'>\n",
      "RangeIndex: 16161 entries, 0 to 16160\n",
      "Data columns (total 57 columns):\n",
      " #   Column                 Non-Null Count  Dtype  \n",
      "---  ------                 --------------  -----  \n",
      " 0   Unnamed: 0             16161 non-null  int64  \n",
      " 1   Rank                   16161 non-null  int64  \n",
      " 2   Name                   16161 non-null  object \n",
      " 3   OVR                    16161 non-null  int64  \n",
      " 4   PAC                    16161 non-null  int64  \n",
      " 5   SHO                    16161 non-null  int64  \n",
      " 6   PAS                    16161 non-null  int64  \n",
      " 7   DRI                    16161 non-null  int64  \n",
      " 8   DEF                    16161 non-null  int64  \n",
      " 9   PHY                    16161 non-null  int64  \n",
      " 10  Acceleration           16161 non-null  int64  \n",
      " 11  Sprint Speed           16161 non-null  int64  \n",
      " 12  Positioning            16161 non-null  object \n",
      " 13  Finishing              16161 non-null  object \n",
      " 14  Shot Power             16161 non-null  int64  \n",
      " 15  Long Shots             16161 non-null  object \n",
      " 16  Volleys                16161 non-null  object \n",
      " 17  Penalties              16161 non-null  int64  \n",
      " 18  Vision                 16161 non-null  int64  \n",
      " 19  Crossing               16161 non-null  object \n",
      " 20  Free Kick Accuracy     16161 non-null  object \n",
      " 21  Short Passing          16161 non-null  int64  \n",
      " 22  Long Passing           16161 non-null  int64  \n",
      " 23  Curve                  16161 non-null  object \n",
      " 24  Dribbling              16161 non-null  object \n",
      " 25  Agility                16161 non-null  int64  \n",
      " 26  Balance                16161 non-null  int64  \n",
      " 27  Reactions              16161 non-null  int64  \n",
      " 28  Ball Control           16161 non-null  int64  \n",
      " 29  Composure              16161 non-null  int64  \n",
      " 30  Interceptions          16161 non-null  object \n",
      " 31  Heading Accuracy       16161 non-null  object \n",
      " 32  Def Awareness          16161 non-null  object \n",
      " 33  Standing Tackle        16161 non-null  object \n",
      " 34  Sliding Tackle         16161 non-null  object \n",
      " 35  Jumping                16161 non-null  int64  \n",
      " 36  Stamina                16161 non-null  int64  \n",
      " 37  Strength               16161 non-null  int64  \n",
      " 38  Aggression             16161 non-null  int64  \n",
      " 39  Position               16161 non-null  object \n",
      " 40  Weak foot              16161 non-null  int64  \n",
      " 41  Skill moves            16161 non-null  int64  \n",
      " 42  Preferred foot         16161 non-null  object \n",
      " 43  Height                 16161 non-null  object \n",
      " 44  Weight                 16161 non-null  object \n",
      " 45  Alternative positions  8914 non-null   object \n",
      " 46  Age                    16161 non-null  int64  \n",
      " 47  Nation                 16161 non-null  object \n",
      " 48  League                 16161 non-null  object \n",
      " 49  Team                   16161 non-null  object \n",
      " 50  play style             7479 non-null   object \n",
      " 51  url                    16161 non-null  object \n",
      " 52  GK Diving              1816 non-null   float64\n",
      " 53  GK Handling            1816 non-null   float64\n",
      " 54  GK Kicking             1816 non-null   float64\n",
      " 55  GK Positioning         1816 non-null   float64\n",
      " 56  GK Reflexes            1816 non-null   float64\n",
      "dtypes: float64(5), int64(28), object(24)\n",
      "memory usage: 7.0+ MB\n"
     ]
    }
   ],
   "source": [
    "players.info()"
   ]
  },
  {
   "cell_type": "markdown",
   "metadata": {
    "id": "EeS7cU4aXwt9"
   },
   "source": [
    "### 2. Check and clean data"
   ]
  },
  {
   "cell_type": "code",
   "execution_count": 4,
   "metadata": {
    "colab": {
     "base_uri": "https://localhost:8080/"
    },
    "executionInfo": {
     "elapsed": 487,
     "status": "ok",
     "timestamp": 1727615095498,
     "user": {
      "displayName": "Nghia Nguyen",
      "userId": "09671047802048051440"
     },
     "user_tz": -420
    },
    "id": "xpA0RqtrOAS4",
    "outputId": "a83ac99c-d758-40a4-bad6-1ed3b70e341b"
   },
   "outputs": [
    {
     "data": {
      "text/plain": [
       "16057"
      ]
     },
     "execution_count": 4,
     "metadata": {},
     "output_type": "execute_result"
    }
   ],
   "source": [
    "# find duplicates in Rank column\n",
    "players['Rank'].duplicated().sum()"
   ]
  },
  {
   "cell_type": "code",
   "execution_count": 5,
   "metadata": {
    "colab": {
     "base_uri": "https://localhost:8080/",
     "height": 964
    },
    "executionInfo": {
     "elapsed": 515,
     "status": "ok",
     "timestamp": 1727616033864,
     "user": {
      "displayName": "Nghia Nguyen",
      "userId": "09671047802048051440"
     },
     "user_tz": -420
    },
    "id": "bw2ToxgOrDsq",
    "outputId": "4043445d-3d30-4068-a82d-01d7425a7ce6"
   },
   "outputs": [
    {
     "data": {
      "text/html": [
       "<div>\n",
       "<style scoped>\n",
       "    .dataframe tbody tr th:only-of-type {\n",
       "        vertical-align: middle;\n",
       "    }\n",
       "\n",
       "    .dataframe tbody tr th {\n",
       "        vertical-align: top;\n",
       "    }\n",
       "\n",
       "    .dataframe thead th {\n",
       "        text-align: right;\n",
       "    }\n",
       "</style>\n",
       "<table border=\"1\" class=\"dataframe\">\n",
       "  <thead>\n",
       "    <tr style=\"text-align: right;\">\n",
       "      <th></th>\n",
       "      <th>Unnamed: 0</th>\n",
       "      <th>Rank</th>\n",
       "      <th>Name</th>\n",
       "      <th>OVR</th>\n",
       "      <th>PAC</th>\n",
       "      <th>SHO</th>\n",
       "      <th>PAS</th>\n",
       "      <th>DRI</th>\n",
       "      <th>DEF</th>\n",
       "      <th>PHY</th>\n",
       "      <th>...</th>\n",
       "      <th>Nation</th>\n",
       "      <th>League</th>\n",
       "      <th>Team</th>\n",
       "      <th>play style</th>\n",
       "      <th>url</th>\n",
       "      <th>GK Diving</th>\n",
       "      <th>GK Handling</th>\n",
       "      <th>GK Kicking</th>\n",
       "      <th>GK Positioning</th>\n",
       "      <th>GK Reflexes</th>\n",
       "    </tr>\n",
       "  </thead>\n",
       "  <tbody>\n",
       "    <tr>\n",
       "      <th>0</th>\n",
       "      <td>0</td>\n",
       "      <td>1</td>\n",
       "      <td>Kylian Mbappé</td>\n",
       "      <td>91</td>\n",
       "      <td>97</td>\n",
       "      <td>90</td>\n",
       "      <td>80</td>\n",
       "      <td>92</td>\n",
       "      <td>36</td>\n",
       "      <td>78</td>\n",
       "      <td>...</td>\n",
       "      <td>France</td>\n",
       "      <td>LALIGA EA SPORTS</td>\n",
       "      <td>Real Madrid</td>\n",
       "      <td>Quick Step+, Acrobatic, Finesse Shot, Flair, R...</td>\n",
       "      <td>https://www.ea.com/games/ea-sports-fc/ratings/...</td>\n",
       "      <td>NaN</td>\n",
       "      <td>NaN</td>\n",
       "      <td>NaN</td>\n",
       "      <td>NaN</td>\n",
       "      <td>NaN</td>\n",
       "    </tr>\n",
       "    <tr>\n",
       "      <th>1</th>\n",
       "      <td>1</td>\n",
       "      <td>2</td>\n",
       "      <td>Rodri</td>\n",
       "      <td>91</td>\n",
       "      <td>66</td>\n",
       "      <td>80</td>\n",
       "      <td>86</td>\n",
       "      <td>84</td>\n",
       "      <td>87</td>\n",
       "      <td>85</td>\n",
       "      <td>...</td>\n",
       "      <td>Spain</td>\n",
       "      <td>Premier League</td>\n",
       "      <td>Manchester City</td>\n",
       "      <td>Tiki Taka+, Aerial, Bruiser, Long Ball Pass, P...</td>\n",
       "      <td>https://www.ea.com/games/ea-sports-fc/ratings/...</td>\n",
       "      <td>NaN</td>\n",
       "      <td>NaN</td>\n",
       "      <td>NaN</td>\n",
       "      <td>NaN</td>\n",
       "      <td>NaN</td>\n",
       "    </tr>\n",
       "    <tr>\n",
       "      <th>2</th>\n",
       "      <td>2</td>\n",
       "      <td>3</td>\n",
       "      <td>Erling Haaland</td>\n",
       "      <td>91</td>\n",
       "      <td>88</td>\n",
       "      <td>92</td>\n",
       "      <td>70</td>\n",
       "      <td>81</td>\n",
       "      <td>45</td>\n",
       "      <td>88</td>\n",
       "      <td>...</td>\n",
       "      <td>Norway</td>\n",
       "      <td>Premier League</td>\n",
       "      <td>Manchester City</td>\n",
       "      <td>Acrobatic+, Bruiser, Power Header, Power Shot,...</td>\n",
       "      <td>https://www.ea.com/games/ea-sports-fc/ratings/...</td>\n",
       "      <td>NaN</td>\n",
       "      <td>NaN</td>\n",
       "      <td>NaN</td>\n",
       "      <td>NaN</td>\n",
       "      <td>NaN</td>\n",
       "    </tr>\n",
       "    <tr>\n",
       "      <th>3</th>\n",
       "      <td>3</td>\n",
       "      <td>4</td>\n",
       "      <td>Jude Bellingham</td>\n",
       "      <td>90</td>\n",
       "      <td>80</td>\n",
       "      <td>87</td>\n",
       "      <td>83</td>\n",
       "      <td>88</td>\n",
       "      <td>78</td>\n",
       "      <td>83</td>\n",
       "      <td>...</td>\n",
       "      <td>England</td>\n",
       "      <td>LALIGA EA SPORTS</td>\n",
       "      <td>Real Madrid</td>\n",
       "      <td>Relentless+, Flair, Intercept, Slide Tackle, T...</td>\n",
       "      <td>https://www.ea.com/games/ea-sports-fc/ratings/...</td>\n",
       "      <td>NaN</td>\n",
       "      <td>NaN</td>\n",
       "      <td>NaN</td>\n",
       "      <td>NaN</td>\n",
       "      <td>NaN</td>\n",
       "    </tr>\n",
       "    <tr>\n",
       "      <th>4</th>\n",
       "      <td>4</td>\n",
       "      <td>5</td>\n",
       "      <td>Vini Jr.</td>\n",
       "      <td>90</td>\n",
       "      <td>95</td>\n",
       "      <td>84</td>\n",
       "      <td>81</td>\n",
       "      <td>91</td>\n",
       "      <td>29</td>\n",
       "      <td>69</td>\n",
       "      <td>...</td>\n",
       "      <td>Brazil</td>\n",
       "      <td>LALIGA EA SPORTS</td>\n",
       "      <td>Real Madrid</td>\n",
       "      <td>Quick Step+, Chip Shot, Finesse Shot, First To...</td>\n",
       "      <td>https://www.ea.com/games/ea-sports-fc/ratings/...</td>\n",
       "      <td>NaN</td>\n",
       "      <td>NaN</td>\n",
       "      <td>NaN</td>\n",
       "      <td>NaN</td>\n",
       "      <td>NaN</td>\n",
       "    </tr>\n",
       "    <tr>\n",
       "      <th>...</th>\n",
       "      <td>...</td>\n",
       "      <td>...</td>\n",
       "      <td>...</td>\n",
       "      <td>...</td>\n",
       "      <td>...</td>\n",
       "      <td>...</td>\n",
       "      <td>...</td>\n",
       "      <td>...</td>\n",
       "      <td>...</td>\n",
       "      <td>...</td>\n",
       "      <td>...</td>\n",
       "      <td>...</td>\n",
       "      <td>...</td>\n",
       "      <td>...</td>\n",
       "      <td>...</td>\n",
       "      <td>...</td>\n",
       "      <td>...</td>\n",
       "      <td>...</td>\n",
       "      <td>...</td>\n",
       "      <td>...</td>\n",
       "      <td>...</td>\n",
       "    </tr>\n",
       "    <tr>\n",
       "      <th>16156</th>\n",
       "      <td>16156</td>\n",
       "      <td>16157</td>\n",
       "      <td>Engson Singh</td>\n",
       "      <td>47</td>\n",
       "      <td>31</td>\n",
       "      <td>45</td>\n",
       "      <td>47</td>\n",
       "      <td>52</td>\n",
       "      <td>34</td>\n",
       "      <td>45</td>\n",
       "      <td>...</td>\n",
       "      <td>India</td>\n",
       "      <td>ISL</td>\n",
       "      <td>Mohun Bagan SG</td>\n",
       "      <td>NaN</td>\n",
       "      <td>https://www.ea.com/games/ea-sports-fc/ratings/...</td>\n",
       "      <td>NaN</td>\n",
       "      <td>NaN</td>\n",
       "      <td>NaN</td>\n",
       "      <td>NaN</td>\n",
       "      <td>NaN</td>\n",
       "    </tr>\n",
       "    <tr>\n",
       "      <th>16157</th>\n",
       "      <td>16157</td>\n",
       "      <td>16158</td>\n",
       "      <td>Ousmane Sylla</td>\n",
       "      <td>47</td>\n",
       "      <td>67</td>\n",
       "      <td>38</td>\n",
       "      <td>46</td>\n",
       "      <td>45</td>\n",
       "      <td>40</td>\n",
       "      <td>55</td>\n",
       "      <td>...</td>\n",
       "      <td>Senegal</td>\n",
       "      <td>MLS</td>\n",
       "      <td>Houston Dynamo</td>\n",
       "      <td>NaN</td>\n",
       "      <td>https://www.ea.com/games/ea-sports-fc/ratings/...</td>\n",
       "      <td>NaN</td>\n",
       "      <td>NaN</td>\n",
       "      <td>NaN</td>\n",
       "      <td>NaN</td>\n",
       "      <td>NaN</td>\n",
       "    </tr>\n",
       "    <tr>\n",
       "      <th>16158</th>\n",
       "      <td>16158</td>\n",
       "      <td>16159</td>\n",
       "      <td>Wei Feng</td>\n",
       "      <td>47</td>\n",
       "      <td>57</td>\n",
       "      <td>47</td>\n",
       "      <td>38</td>\n",
       "      <td>50</td>\n",
       "      <td>43</td>\n",
       "      <td>49</td>\n",
       "      <td>...</td>\n",
       "      <td>China PR</td>\n",
       "      <td>CSL</td>\n",
       "      <td>Changchun Yatai</td>\n",
       "      <td>NaN</td>\n",
       "      <td>https://www.ea.com/games/ea-sports-fc/ratings/...</td>\n",
       "      <td>NaN</td>\n",
       "      <td>NaN</td>\n",
       "      <td>NaN</td>\n",
       "      <td>NaN</td>\n",
       "      <td>NaN</td>\n",
       "    </tr>\n",
       "    <tr>\n",
       "      <th>16159</th>\n",
       "      <td>16159</td>\n",
       "      <td>16160</td>\n",
       "      <td>Won Hui Do</td>\n",
       "      <td>47</td>\n",
       "      <td>66</td>\n",
       "      <td>35</td>\n",
       "      <td>46</td>\n",
       "      <td>46</td>\n",
       "      <td>41</td>\n",
       "      <td>64</td>\n",
       "      <td>...</td>\n",
       "      <td>Korea Republic</td>\n",
       "      <td>K League 1</td>\n",
       "      <td>Jeju United</td>\n",
       "      <td>NaN</td>\n",
       "      <td>https://www.ea.com/games/ea-sports-fc/ratings/...</td>\n",
       "      <td>NaN</td>\n",
       "      <td>NaN</td>\n",
       "      <td>NaN</td>\n",
       "      <td>NaN</td>\n",
       "      <td>NaN</td>\n",
       "    </tr>\n",
       "    <tr>\n",
       "      <th>16160</th>\n",
       "      <td>16160</td>\n",
       "      <td>16161</td>\n",
       "      <td>Wu Yuhang</td>\n",
       "      <td>47</td>\n",
       "      <td>56</td>\n",
       "      <td>34</td>\n",
       "      <td>43</td>\n",
       "      <td>45</td>\n",
       "      <td>43</td>\n",
       "      <td>54</td>\n",
       "      <td>...</td>\n",
       "      <td>China PR</td>\n",
       "      <td>CSL</td>\n",
       "      <td>Zhejiang Pro</td>\n",
       "      <td>NaN</td>\n",
       "      <td>https://www.ea.com/games/ea-sports-fc/ratings/...</td>\n",
       "      <td>NaN</td>\n",
       "      <td>NaN</td>\n",
       "      <td>NaN</td>\n",
       "      <td>NaN</td>\n",
       "      <td>NaN</td>\n",
       "    </tr>\n",
       "  </tbody>\n",
       "</table>\n",
       "<p>16161 rows × 57 columns</p>\n",
       "</div>"
      ],
      "text/plain": [
       "       Unnamed: 0   Rank             Name  OVR  PAC  SHO  PAS  DRI  DEF  PHY  \\\n",
       "0               0      1    Kylian Mbappé   91   97   90   80   92   36   78   \n",
       "1               1      2            Rodri   91   66   80   86   84   87   85   \n",
       "2               2      3   Erling Haaland   91   88   92   70   81   45   88   \n",
       "3               3      4  Jude Bellingham   90   80   87   83   88   78   83   \n",
       "4               4      5         Vini Jr.   90   95   84   81   91   29   69   \n",
       "...           ...    ...              ...  ...  ...  ...  ...  ...  ...  ...   \n",
       "16156       16156  16157     Engson Singh   47   31   45   47   52   34   45   \n",
       "16157       16157  16158    Ousmane Sylla   47   67   38   46   45   40   55   \n",
       "16158       16158  16159         Wei Feng   47   57   47   38   50   43   49   \n",
       "16159       16159  16160       Won Hui Do   47   66   35   46   46   41   64   \n",
       "16160       16160  16161        Wu Yuhang   47   56   34   43   45   43   54   \n",
       "\n",
       "       ...          Nation            League             Team  \\\n",
       "0      ...          France  LALIGA EA SPORTS      Real Madrid   \n",
       "1      ...           Spain    Premier League  Manchester City   \n",
       "2      ...          Norway    Premier League  Manchester City   \n",
       "3      ...         England  LALIGA EA SPORTS      Real Madrid   \n",
       "4      ...          Brazil  LALIGA EA SPORTS      Real Madrid   \n",
       "...    ...             ...               ...              ...   \n",
       "16156  ...           India               ISL   Mohun Bagan SG   \n",
       "16157  ...         Senegal               MLS   Houston Dynamo   \n",
       "16158  ...        China PR               CSL  Changchun Yatai   \n",
       "16159  ...  Korea Republic        K League 1      Jeju United   \n",
       "16160  ...        China PR               CSL     Zhejiang Pro   \n",
       "\n",
       "                                              play style  \\\n",
       "0      Quick Step+, Acrobatic, Finesse Shot, Flair, R...   \n",
       "1      Tiki Taka+, Aerial, Bruiser, Long Ball Pass, P...   \n",
       "2      Acrobatic+, Bruiser, Power Header, Power Shot,...   \n",
       "3      Relentless+, Flair, Intercept, Slide Tackle, T...   \n",
       "4      Quick Step+, Chip Shot, Finesse Shot, First To...   \n",
       "...                                                  ...   \n",
       "16156                                                NaN   \n",
       "16157                                                NaN   \n",
       "16158                                                NaN   \n",
       "16159                                                NaN   \n",
       "16160                                                NaN   \n",
       "\n",
       "                                                     url GK Diving  \\\n",
       "0      https://www.ea.com/games/ea-sports-fc/ratings/...       NaN   \n",
       "1      https://www.ea.com/games/ea-sports-fc/ratings/...       NaN   \n",
       "2      https://www.ea.com/games/ea-sports-fc/ratings/...       NaN   \n",
       "3      https://www.ea.com/games/ea-sports-fc/ratings/...       NaN   \n",
       "4      https://www.ea.com/games/ea-sports-fc/ratings/...       NaN   \n",
       "...                                                  ...       ...   \n",
       "16156  https://www.ea.com/games/ea-sports-fc/ratings/...       NaN   \n",
       "16157  https://www.ea.com/games/ea-sports-fc/ratings/...       NaN   \n",
       "16158  https://www.ea.com/games/ea-sports-fc/ratings/...       NaN   \n",
       "16159  https://www.ea.com/games/ea-sports-fc/ratings/...       NaN   \n",
       "16160  https://www.ea.com/games/ea-sports-fc/ratings/...       NaN   \n",
       "\n",
       "      GK Handling  GK Kicking  GK Positioning GK Reflexes  \n",
       "0             NaN         NaN             NaN         NaN  \n",
       "1             NaN         NaN             NaN         NaN  \n",
       "2             NaN         NaN             NaN         NaN  \n",
       "3             NaN         NaN             NaN         NaN  \n",
       "4             NaN         NaN             NaN         NaN  \n",
       "...           ...         ...             ...         ...  \n",
       "16156         NaN         NaN             NaN         NaN  \n",
       "16157         NaN         NaN             NaN         NaN  \n",
       "16158         NaN         NaN             NaN         NaN  \n",
       "16159         NaN         NaN             NaN         NaN  \n",
       "16160         NaN         NaN             NaN         NaN  \n",
       "\n",
       "[16161 rows x 57 columns]"
      ]
     },
     "execution_count": 5,
     "metadata": {},
     "output_type": "execute_result"
    }
   ],
   "source": [
    "# set 'Rank' as the index column\n",
    "players['Rank'] = players.index + 1\n",
    "players"
   ]
  },
  {
   "cell_type": "code",
   "execution_count": 6,
   "metadata": {
    "colab": {
     "base_uri": "https://localhost:8080/",
     "height": 1000
    },
    "executionInfo": {
     "elapsed": 840,
     "status": "ok",
     "timestamp": 1727615105169,
     "user": {
      "displayName": "Nghia Nguyen",
      "userId": "09671047802048051440"
     },
     "user_tz": -420
    },
    "id": "hTKWc04LNrNz",
    "outputId": "2a408ef4-8c7a-417c-f3e8-1c2ade4a528e"
   },
   "outputs": [
    {
     "data": {
      "text/plain": [
       "GK Reflexes              14345\n",
       "GK Positioning           14345\n",
       "GK Kicking               14345\n",
       "GK Handling              14345\n",
       "GK Diving                14345\n",
       "play style                8682\n",
       "Alternative positions     7247\n",
       "Jumping                      0\n",
       "Aggression                   0\n",
       "Strength                     0\n",
       "Stamina                      0\n",
       "Def Awareness                0\n",
       "Sliding Tackle               0\n",
       "Standing Tackle              0\n",
       "Weak foot                    0\n",
       "Heading Accuracy             0\n",
       "Position                     0\n",
       "Height                       0\n",
       "Skill moves                  0\n",
       "Preferred foot               0\n",
       "Composure                    0\n",
       "Weight                       0\n",
       "Age                          0\n",
       "Nation                       0\n",
       "League                       0\n",
       "Team                         0\n",
       "url                          0\n",
       "Interceptions                0\n",
       "Unnamed: 0                   0\n",
       "Rank                         0\n",
       "Reactions                    0\n",
       "Name                         0\n",
       "OVR                          0\n",
       "PAC                          0\n",
       "SHO                          0\n",
       "PAS                          0\n",
       "DRI                          0\n",
       "DEF                          0\n",
       "PHY                          0\n",
       "Acceleration                 0\n",
       "Sprint Speed                 0\n",
       "Positioning                  0\n",
       "Finishing                    0\n",
       "Shot Power                   0\n",
       "Long Shots                   0\n",
       "Volleys                      0\n",
       "Penalties                    0\n",
       "Vision                       0\n",
       "Crossing                     0\n",
       "Free Kick Accuracy           0\n",
       "Short Passing                0\n",
       "Long Passing                 0\n",
       "Curve                        0\n",
       "Dribbling                    0\n",
       "Agility                      0\n",
       "Balance                      0\n",
       "Ball Control                 0\n",
       "dtype: int64"
      ]
     },
     "execution_count": 6,
     "metadata": {},
     "output_type": "execute_result"
    }
   ],
   "source": [
    "# Count null\n",
    "players.isna().sum().sort_values(ascending=False)"
   ]
  },
  {
   "cell_type": "code",
   "execution_count": 7,
   "metadata": {
    "executionInfo": {
     "elapsed": 610,
     "status": "ok",
     "timestamp": 1727615114201,
     "user": {
      "displayName": "Nghia Nguyen",
      "userId": "09671047802048051440"
     },
     "user_tz": -420
    },
    "id": "ojYbb2PMO5D1"
   },
   "outputs": [],
   "source": [
    "# Fill null columns with values\n",
    "\n",
    "players['Alternative positions'] = players['Alternative positions'].ffill()\n",
    "players['play style'] = players['play style'].ffill()\n",
    "players['GK Diving']=players['GK Diving'].fillna(players['GK Diving'].mean())\n",
    "players['GK Handling']=players['GK Handling'].fillna(players['GK Handling'].mean())\n",
    "players['GK Kicking']=players['GK Kicking'].fillna(players['GK Kicking'].mean())\n",
    "players['GK Reflexes']=players['GK Reflexes'].fillna(players['GK Reflexes'].mean())\n",
    "players['GK Positioning']=players['GK Positioning'].fillna(players['GK Positioning'].mean())"
   ]
  },
  {
   "cell_type": "code",
   "execution_count": 8,
   "metadata": {
    "colab": {
     "base_uri": "https://localhost:8080/",
     "height": 1000
    },
    "executionInfo": {
     "elapsed": 507,
     "status": "ok",
     "timestamp": 1727615117287,
     "user": {
      "displayName": "Nghia Nguyen",
      "userId": "09671047802048051440"
     },
     "user_tz": -420
    },
    "id": "etgyfBXRT9XB",
    "outputId": "8cf24ce2-19e7-4334-b95f-47f4f1a14602"
   },
   "outputs": [
    {
     "data": {
      "text/plain": [
       "Unnamed: 0               0\n",
       "Rank                     0\n",
       "Name                     0\n",
       "OVR                      0\n",
       "PAC                      0\n",
       "SHO                      0\n",
       "PAS                      0\n",
       "DRI                      0\n",
       "DEF                      0\n",
       "PHY                      0\n",
       "Acceleration             0\n",
       "Sprint Speed             0\n",
       "Positioning              0\n",
       "Finishing                0\n",
       "Shot Power               0\n",
       "Long Shots               0\n",
       "Volleys                  0\n",
       "Penalties                0\n",
       "Vision                   0\n",
       "Crossing                 0\n",
       "Free Kick Accuracy       0\n",
       "Short Passing            0\n",
       "Long Passing             0\n",
       "Curve                    0\n",
       "Dribbling                0\n",
       "Agility                  0\n",
       "Balance                  0\n",
       "Reactions                0\n",
       "Ball Control             0\n",
       "Composure                0\n",
       "Interceptions            0\n",
       "Heading Accuracy         0\n",
       "Def Awareness            0\n",
       "Standing Tackle          0\n",
       "Sliding Tackle           0\n",
       "Jumping                  0\n",
       "Stamina                  0\n",
       "Strength                 0\n",
       "Aggression               0\n",
       "Position                 0\n",
       "Weak foot                0\n",
       "Skill moves              0\n",
       "Preferred foot           0\n",
       "Height                   0\n",
       "Weight                   0\n",
       "Alternative positions    0\n",
       "Age                      0\n",
       "Nation                   0\n",
       "League                   0\n",
       "Team                     0\n",
       "play style               0\n",
       "url                      0\n",
       "GK Diving                0\n",
       "GK Handling              0\n",
       "GK Kicking               0\n",
       "GK Positioning           0\n",
       "GK Reflexes              0\n",
       "dtype: int64"
      ]
     },
     "execution_count": 8,
     "metadata": {},
     "output_type": "execute_result"
    }
   ],
   "source": [
    "#Check again\n",
    "players.isna().sum()"
   ]
  },
  {
   "cell_type": "code",
   "execution_count": 9,
   "metadata": {
    "executionInfo": {
     "elapsed": 810,
     "status": "ok",
     "timestamp": 1727615121864,
     "user": {
      "displayName": "Nghia Nguyen",
      "userId": "09671047802048051440"
     },
     "user_tz": -420
    },
    "id": "SeBZe__NUR9N"
   },
   "outputs": [],
   "source": [
    "#Rename columns \"Alternative positions,play style,Preferred foot\"\n",
    "\n",
    "players.rename(\n",
    "    columns = {\n",
    "        'Alternative positions':'Alternative Positions',\n",
    "        'play style':'Play Style',\n",
    "        'Preferred foot':'Preferred Foot'\n",
    "    },\n",
    "    inplace=True\n",
    ")"
   ]
  },
  {
   "cell_type": "code",
   "execution_count": 10,
   "metadata": {
    "executionInfo": {
     "elapsed": 795,
     "status": "ok",
     "timestamp": 1727615126555,
     "user": {
      "displayName": "Nghia Nguyen",
      "userId": "09671047802048051440"
     },
     "user_tz": -420
    },
    "id": "I23XGq6LWBdB"
   },
   "outputs": [],
   "source": [
    "#Remove columns 'Unnamed:0','url'\n",
    "players.drop(\n",
    "    columns=['Unnamed: 0','url'],\n",
    "    inplace=True\n",
    ")"
   ]
  },
  {
   "cell_type": "markdown",
   "metadata": {
    "id": "a1I4YbBabCjh"
   },
   "source": [
    "### 3. Data analysis and visualization"
   ]
  },
  {
   "cell_type": "code",
   "execution_count": 11,
   "metadata": {
    "colab": {
     "base_uri": "https://localhost:8080/",
     "height": 1000
    },
    "executionInfo": {
     "elapsed": 858,
     "status": "ok",
     "timestamp": 1727615130153,
     "user": {
      "displayName": "Nghia Nguyen",
      "userId": "09671047802048051440"
     },
     "user_tz": -420
    },
    "id": "f44e8sAzbAgJ",
    "outputId": "4b25a18e-2294-491d-a78d-b2466ebf6c94"
   },
   "outputs": [
    {
     "data": {
      "text/html": [
       "<div>\n",
       "<style scoped>\n",
       "    .dataframe tbody tr th:only-of-type {\n",
       "        vertical-align: middle;\n",
       "    }\n",
       "\n",
       "    .dataframe tbody tr th {\n",
       "        vertical-align: top;\n",
       "    }\n",
       "\n",
       "    .dataframe thead th {\n",
       "        text-align: right;\n",
       "    }\n",
       "</style>\n",
       "<table border=\"1\" class=\"dataframe\">\n",
       "  <thead>\n",
       "    <tr style=\"text-align: right;\">\n",
       "      <th></th>\n",
       "      <th>count</th>\n",
       "      <th>mean</th>\n",
       "      <th>std</th>\n",
       "      <th>min</th>\n",
       "      <th>25%</th>\n",
       "      <th>50%</th>\n",
       "      <th>75%</th>\n",
       "      <th>max</th>\n",
       "    </tr>\n",
       "  </thead>\n",
       "  <tbody>\n",
       "    <tr>\n",
       "      <th>Rank</th>\n",
       "      <td>16161.0</td>\n",
       "      <td>8081.000000</td>\n",
       "      <td>4665.423186</td>\n",
       "      <td>1.0</td>\n",
       "      <td>4041.000000</td>\n",
       "      <td>8081.000000</td>\n",
       "      <td>12121.000000</td>\n",
       "      <td>16161.0</td>\n",
       "    </tr>\n",
       "    <tr>\n",
       "      <th>OVR</th>\n",
       "      <td>16161.0</td>\n",
       "      <td>66.172390</td>\n",
       "      <td>6.761979</td>\n",
       "      <td>47.0</td>\n",
       "      <td>62.000000</td>\n",
       "      <td>66.000000</td>\n",
       "      <td>70.000000</td>\n",
       "      <td>91.0</td>\n",
       "    </tr>\n",
       "    <tr>\n",
       "      <th>PAC</th>\n",
       "      <td>16161.0</td>\n",
       "      <td>68.149558</td>\n",
       "      <td>10.612153</td>\n",
       "      <td>29.0</td>\n",
       "      <td>62.000000</td>\n",
       "      <td>69.000000</td>\n",
       "      <td>75.000000</td>\n",
       "      <td>97.0</td>\n",
       "    </tr>\n",
       "    <tr>\n",
       "      <th>SHO</th>\n",
       "      <td>16161.0</td>\n",
       "      <td>54.146835</td>\n",
       "      <td>13.740389</td>\n",
       "      <td>20.0</td>\n",
       "      <td>45.000000</td>\n",
       "      <td>57.000000</td>\n",
       "      <td>64.000000</td>\n",
       "      <td>93.0</td>\n",
       "    </tr>\n",
       "    <tr>\n",
       "      <th>PAS</th>\n",
       "      <td>16161.0</td>\n",
       "      <td>58.434874</td>\n",
       "      <td>9.660646</td>\n",
       "      <td>25.0</td>\n",
       "      <td>52.000000</td>\n",
       "      <td>59.000000</td>\n",
       "      <td>65.000000</td>\n",
       "      <td>94.0</td>\n",
       "    </tr>\n",
       "    <tr>\n",
       "      <th>DRI</th>\n",
       "      <td>16161.0</td>\n",
       "      <td>63.599158</td>\n",
       "      <td>9.262399</td>\n",
       "      <td>29.0</td>\n",
       "      <td>58.000000</td>\n",
       "      <td>64.000000</td>\n",
       "      <td>70.000000</td>\n",
       "      <td>92.0</td>\n",
       "    </tr>\n",
       "    <tr>\n",
       "      <th>DEF</th>\n",
       "      <td>16161.0</td>\n",
       "      <td>50.591981</td>\n",
       "      <td>16.323879</td>\n",
       "      <td>15.0</td>\n",
       "      <td>36.000000</td>\n",
       "      <td>55.000000</td>\n",
       "      <td>64.000000</td>\n",
       "      <td>89.0</td>\n",
       "    </tr>\n",
       "    <tr>\n",
       "      <th>PHY</th>\n",
       "      <td>16161.0</td>\n",
       "      <td>65.241755</td>\n",
       "      <td>9.509657</td>\n",
       "      <td>32.0</td>\n",
       "      <td>59.000000</td>\n",
       "      <td>66.000000</td>\n",
       "      <td>72.000000</td>\n",
       "      <td>91.0</td>\n",
       "    </tr>\n",
       "    <tr>\n",
       "      <th>Acceleration</th>\n",
       "      <td>16161.0</td>\n",
       "      <td>64.778727</td>\n",
       "      <td>15.478648</td>\n",
       "      <td>15.0</td>\n",
       "      <td>57.000000</td>\n",
       "      <td>68.000000</td>\n",
       "      <td>75.000000</td>\n",
       "      <td>97.0</td>\n",
       "    </tr>\n",
       "    <tr>\n",
       "      <th>Sprint Speed</th>\n",
       "      <td>16161.0</td>\n",
       "      <td>64.812264</td>\n",
       "      <td>15.258747</td>\n",
       "      <td>15.0</td>\n",
       "      <td>57.000000</td>\n",
       "      <td>68.000000</td>\n",
       "      <td>75.000000</td>\n",
       "      <td>97.0</td>\n",
       "    </tr>\n",
       "    <tr>\n",
       "      <th>Shot Power</th>\n",
       "      <td>16161.0</td>\n",
       "      <td>58.000990</td>\n",
       "      <td>12.876878</td>\n",
       "      <td>20.0</td>\n",
       "      <td>48.000000</td>\n",
       "      <td>59.000000</td>\n",
       "      <td>68.000000</td>\n",
       "      <td>94.0</td>\n",
       "    </tr>\n",
       "    <tr>\n",
       "      <th>Penalties</th>\n",
       "      <td>16161.0</td>\n",
       "      <td>47.614813</td>\n",
       "      <td>15.710242</td>\n",
       "      <td>10.0</td>\n",
       "      <td>38.000000</td>\n",
       "      <td>49.000000</td>\n",
       "      <td>59.000000</td>\n",
       "      <td>93.0</td>\n",
       "    </tr>\n",
       "    <tr>\n",
       "      <th>Vision</th>\n",
       "      <td>16161.0</td>\n",
       "      <td>54.865107</td>\n",
       "      <td>13.370436</td>\n",
       "      <td>15.0</td>\n",
       "      <td>46.000000</td>\n",
       "      <td>57.000000</td>\n",
       "      <td>65.000000</td>\n",
       "      <td>95.0</td>\n",
       "    </tr>\n",
       "    <tr>\n",
       "      <th>Short Passing</th>\n",
       "      <td>16161.0</td>\n",
       "      <td>59.507766</td>\n",
       "      <td>14.183703</td>\n",
       "      <td>13.0</td>\n",
       "      <td>55.000000</td>\n",
       "      <td>63.000000</td>\n",
       "      <td>68.000000</td>\n",
       "      <td>94.0</td>\n",
       "    </tr>\n",
       "    <tr>\n",
       "      <th>Long Passing</th>\n",
       "      <td>16161.0</td>\n",
       "      <td>54.207165</td>\n",
       "      <td>14.424724</td>\n",
       "      <td>11.0</td>\n",
       "      <td>46.000000</td>\n",
       "      <td>57.000000</td>\n",
       "      <td>64.000000</td>\n",
       "      <td>93.0</td>\n",
       "    </tr>\n",
       "    <tr>\n",
       "      <th>Agility</th>\n",
       "      <td>16161.0</td>\n",
       "      <td>63.664687</td>\n",
       "      <td>15.097148</td>\n",
       "      <td>19.0</td>\n",
       "      <td>55.000000</td>\n",
       "      <td>66.000000</td>\n",
       "      <td>75.000000</td>\n",
       "      <td>95.0</td>\n",
       "    </tr>\n",
       "    <tr>\n",
       "      <th>Balance</th>\n",
       "      <td>16161.0</td>\n",
       "      <td>64.103088</td>\n",
       "      <td>14.640849</td>\n",
       "      <td>20.0</td>\n",
       "      <td>56.000000</td>\n",
       "      <td>66.000000</td>\n",
       "      <td>74.000000</td>\n",
       "      <td>95.0</td>\n",
       "    </tr>\n",
       "    <tr>\n",
       "      <th>Reactions</th>\n",
       "      <td>16161.0</td>\n",
       "      <td>62.223934</td>\n",
       "      <td>8.757220</td>\n",
       "      <td>30.0</td>\n",
       "      <td>57.000000</td>\n",
       "      <td>62.000000</td>\n",
       "      <td>68.000000</td>\n",
       "      <td>94.0</td>\n",
       "    </tr>\n",
       "    <tr>\n",
       "      <th>Ball Control</th>\n",
       "      <td>16161.0</td>\n",
       "      <td>59.039787</td>\n",
       "      <td>16.712129</td>\n",
       "      <td>10.0</td>\n",
       "      <td>55.000000</td>\n",
       "      <td>63.000000</td>\n",
       "      <td>69.000000</td>\n",
       "      <td>93.0</td>\n",
       "    </tr>\n",
       "    <tr>\n",
       "      <th>Composure</th>\n",
       "      <td>16161.0</td>\n",
       "      <td>58.299672</td>\n",
       "      <td>12.155230</td>\n",
       "      <td>15.0</td>\n",
       "      <td>51.000000</td>\n",
       "      <td>60.000000</td>\n",
       "      <td>66.000000</td>\n",
       "      <td>94.0</td>\n",
       "    </tr>\n",
       "    <tr>\n",
       "      <th>Jumping</th>\n",
       "      <td>16161.0</td>\n",
       "      <td>66.173442</td>\n",
       "      <td>11.755204</td>\n",
       "      <td>27.0</td>\n",
       "      <td>58.000000</td>\n",
       "      <td>68.000000</td>\n",
       "      <td>75.000000</td>\n",
       "      <td>95.0</td>\n",
       "    </tr>\n",
       "    <tr>\n",
       "      <th>Stamina</th>\n",
       "      <td>16161.0</td>\n",
       "      <td>63.426892</td>\n",
       "      <td>16.450390</td>\n",
       "      <td>15.0</td>\n",
       "      <td>57.000000</td>\n",
       "      <td>67.000000</td>\n",
       "      <td>74.000000</td>\n",
       "      <td>95.0</td>\n",
       "    </tr>\n",
       "    <tr>\n",
       "      <th>Strength</th>\n",
       "      <td>16161.0</td>\n",
       "      <td>65.317121</td>\n",
       "      <td>12.370667</td>\n",
       "      <td>26.0</td>\n",
       "      <td>58.000000</td>\n",
       "      <td>66.000000</td>\n",
       "      <td>74.000000</td>\n",
       "      <td>95.0</td>\n",
       "    </tr>\n",
       "    <tr>\n",
       "      <th>Aggression</th>\n",
       "      <td>16161.0</td>\n",
       "      <td>56.342986</td>\n",
       "      <td>16.771384</td>\n",
       "      <td>11.0</td>\n",
       "      <td>46.000000</td>\n",
       "      <td>60.000000</td>\n",
       "      <td>69.000000</td>\n",
       "      <td>95.0</td>\n",
       "    </tr>\n",
       "    <tr>\n",
       "      <th>Weak foot</th>\n",
       "      <td>16161.0</td>\n",
       "      <td>2.952045</td>\n",
       "      <td>0.677057</td>\n",
       "      <td>1.0</td>\n",
       "      <td>3.000000</td>\n",
       "      <td>3.000000</td>\n",
       "      <td>3.000000</td>\n",
       "      <td>5.0</td>\n",
       "    </tr>\n",
       "    <tr>\n",
       "      <th>Skill moves</th>\n",
       "      <td>16161.0</td>\n",
       "      <td>2.393292</td>\n",
       "      <td>0.783739</td>\n",
       "      <td>1.0</td>\n",
       "      <td>2.000000</td>\n",
       "      <td>2.000000</td>\n",
       "      <td>3.000000</td>\n",
       "      <td>5.0</td>\n",
       "    </tr>\n",
       "    <tr>\n",
       "      <th>Age</th>\n",
       "      <td>16161.0</td>\n",
       "      <td>25.790545</td>\n",
       "      <td>4.662681</td>\n",
       "      <td>17.0</td>\n",
       "      <td>22.000000</td>\n",
       "      <td>25.000000</td>\n",
       "      <td>29.000000</td>\n",
       "      <td>44.0</td>\n",
       "    </tr>\n",
       "    <tr>\n",
       "      <th>GK Diving</th>\n",
       "      <td>16161.0</td>\n",
       "      <td>65.282489</td>\n",
       "      <td>2.463748</td>\n",
       "      <td>45.0</td>\n",
       "      <td>65.282489</td>\n",
       "      <td>65.282489</td>\n",
       "      <td>65.282489</td>\n",
       "      <td>90.0</td>\n",
       "    </tr>\n",
       "    <tr>\n",
       "      <th>GK Handling</th>\n",
       "      <td>16161.0</td>\n",
       "      <td>63.281388</td>\n",
       "      <td>2.352416</td>\n",
       "      <td>45.0</td>\n",
       "      <td>63.281388</td>\n",
       "      <td>63.281388</td>\n",
       "      <td>63.281388</td>\n",
       "      <td>90.0</td>\n",
       "    </tr>\n",
       "    <tr>\n",
       "      <th>GK Kicking</th>\n",
       "      <td>16161.0</td>\n",
       "      <td>62.361784</td>\n",
       "      <td>2.481008</td>\n",
       "      <td>44.0</td>\n",
       "      <td>62.361784</td>\n",
       "      <td>62.361784</td>\n",
       "      <td>62.361784</td>\n",
       "      <td>91.0</td>\n",
       "    </tr>\n",
       "    <tr>\n",
       "      <th>GK Positioning</th>\n",
       "      <td>16161.0</td>\n",
       "      <td>63.645925</td>\n",
       "      <td>2.689953</td>\n",
       "      <td>41.0</td>\n",
       "      <td>63.645925</td>\n",
       "      <td>63.645925</td>\n",
       "      <td>63.645925</td>\n",
       "      <td>90.0</td>\n",
       "    </tr>\n",
       "    <tr>\n",
       "      <th>GK Reflexes</th>\n",
       "      <td>16161.0</td>\n",
       "      <td>66.120595</td>\n",
       "      <td>2.605836</td>\n",
       "      <td>45.0</td>\n",
       "      <td>66.120595</td>\n",
       "      <td>66.120595</td>\n",
       "      <td>66.120595</td>\n",
       "      <td>91.0</td>\n",
       "    </tr>\n",
       "  </tbody>\n",
       "</table>\n",
       "</div>"
      ],
      "text/plain": [
       "                  count         mean          std   min          25%  \\\n",
       "Rank            16161.0  8081.000000  4665.423186   1.0  4041.000000   \n",
       "OVR             16161.0    66.172390     6.761979  47.0    62.000000   \n",
       "PAC             16161.0    68.149558    10.612153  29.0    62.000000   \n",
       "SHO             16161.0    54.146835    13.740389  20.0    45.000000   \n",
       "PAS             16161.0    58.434874     9.660646  25.0    52.000000   \n",
       "DRI             16161.0    63.599158     9.262399  29.0    58.000000   \n",
       "DEF             16161.0    50.591981    16.323879  15.0    36.000000   \n",
       "PHY             16161.0    65.241755     9.509657  32.0    59.000000   \n",
       "Acceleration    16161.0    64.778727    15.478648  15.0    57.000000   \n",
       "Sprint Speed    16161.0    64.812264    15.258747  15.0    57.000000   \n",
       "Shot Power      16161.0    58.000990    12.876878  20.0    48.000000   \n",
       "Penalties       16161.0    47.614813    15.710242  10.0    38.000000   \n",
       "Vision          16161.0    54.865107    13.370436  15.0    46.000000   \n",
       "Short Passing   16161.0    59.507766    14.183703  13.0    55.000000   \n",
       "Long Passing    16161.0    54.207165    14.424724  11.0    46.000000   \n",
       "Agility         16161.0    63.664687    15.097148  19.0    55.000000   \n",
       "Balance         16161.0    64.103088    14.640849  20.0    56.000000   \n",
       "Reactions       16161.0    62.223934     8.757220  30.0    57.000000   \n",
       "Ball Control    16161.0    59.039787    16.712129  10.0    55.000000   \n",
       "Composure       16161.0    58.299672    12.155230  15.0    51.000000   \n",
       "Jumping         16161.0    66.173442    11.755204  27.0    58.000000   \n",
       "Stamina         16161.0    63.426892    16.450390  15.0    57.000000   \n",
       "Strength        16161.0    65.317121    12.370667  26.0    58.000000   \n",
       "Aggression      16161.0    56.342986    16.771384  11.0    46.000000   \n",
       "Weak foot       16161.0     2.952045     0.677057   1.0     3.000000   \n",
       "Skill moves     16161.0     2.393292     0.783739   1.0     2.000000   \n",
       "Age             16161.0    25.790545     4.662681  17.0    22.000000   \n",
       "GK Diving       16161.0    65.282489     2.463748  45.0    65.282489   \n",
       "GK Handling     16161.0    63.281388     2.352416  45.0    63.281388   \n",
       "GK Kicking      16161.0    62.361784     2.481008  44.0    62.361784   \n",
       "GK Positioning  16161.0    63.645925     2.689953  41.0    63.645925   \n",
       "GK Reflexes     16161.0    66.120595     2.605836  45.0    66.120595   \n",
       "\n",
       "                        50%           75%      max  \n",
       "Rank            8081.000000  12121.000000  16161.0  \n",
       "OVR               66.000000     70.000000     91.0  \n",
       "PAC               69.000000     75.000000     97.0  \n",
       "SHO               57.000000     64.000000     93.0  \n",
       "PAS               59.000000     65.000000     94.0  \n",
       "DRI               64.000000     70.000000     92.0  \n",
       "DEF               55.000000     64.000000     89.0  \n",
       "PHY               66.000000     72.000000     91.0  \n",
       "Acceleration      68.000000     75.000000     97.0  \n",
       "Sprint Speed      68.000000     75.000000     97.0  \n",
       "Shot Power        59.000000     68.000000     94.0  \n",
       "Penalties         49.000000     59.000000     93.0  \n",
       "Vision            57.000000     65.000000     95.0  \n",
       "Short Passing     63.000000     68.000000     94.0  \n",
       "Long Passing      57.000000     64.000000     93.0  \n",
       "Agility           66.000000     75.000000     95.0  \n",
       "Balance           66.000000     74.000000     95.0  \n",
       "Reactions         62.000000     68.000000     94.0  \n",
       "Ball Control      63.000000     69.000000     93.0  \n",
       "Composure         60.000000     66.000000     94.0  \n",
       "Jumping           68.000000     75.000000     95.0  \n",
       "Stamina           67.000000     74.000000     95.0  \n",
       "Strength          66.000000     74.000000     95.0  \n",
       "Aggression        60.000000     69.000000     95.0  \n",
       "Weak foot          3.000000      3.000000      5.0  \n",
       "Skill moves        2.000000      3.000000      5.0  \n",
       "Age               25.000000     29.000000     44.0  \n",
       "GK Diving         65.282489     65.282489     90.0  \n",
       "GK Handling       63.281388     63.281388     90.0  \n",
       "GK Kicking        62.361784     62.361784     91.0  \n",
       "GK Positioning    63.645925     63.645925     90.0  \n",
       "GK Reflexes       66.120595     66.120595     91.0  "
      ]
     },
     "execution_count": 11,
     "metadata": {},
     "output_type": "execute_result"
    }
   ],
   "source": [
    "# Statistics\n",
    "players.describe().T"
   ]
  },
  {
   "cell_type": "markdown",
   "metadata": {
    "id": "7ZOemKxwhoM0"
   },
   "source": [
    "#### 3.1. Top 10 Countries with the most players in the game?"
   ]
  },
  {
   "cell_type": "code",
   "execution_count": 12,
   "metadata": {
    "colab": {
     "base_uri": "https://localhost:8080/",
     "height": 429
    },
    "executionInfo": {
     "elapsed": 738,
     "status": "ok",
     "timestamp": 1727615461312,
     "user": {
      "displayName": "Nghia Nguyen",
      "userId": "09671047802048051440"
     },
     "user_tz": -420
    },
    "id": "jITNEWlBxs-I",
    "outputId": "4139d2b8-8553-4238-b478-60dad53c8aec"
   },
   "outputs": [
    {
     "data": {
      "image/png": "[encoded data removed]",
      "text/plain": [
       "<Figure size 1000x600 with 1 Axes>"
      ]
     },
     "metadata": {},
     "output_type": "display_data"
    }
   ],
   "source": [
    "top_nations = players['Nation'].value_counts().head(10)\n",
    "top_nations\n",
    "\n",
    "plt.figure(figsize=(10,6))\n",
    "ax = sns.barplot(x=top_nations.index, y = top_nations.values,palette=sns.husl_palette(10))\n",
    "for p in ax.patches:\n",
    "    ax.annotate(str(p.get_height()), (p.get_x()+p.get_width()/2,p.get_height()*1.025),ha='center',va='center')\n",
    "plt.title('Top 10 Countries with the most players in EA Sport FC 25')\n",
    "plt.xticks(rotation = 30)\n",
    "plt.xlabel('Countries')\n",
    "plt.ylabel('Number of players');"
   ]
  },
  {
   "cell_type": "markdown",
   "metadata": {
    "id": "0Kay2c_tgo4c"
   },
   "source": [
    "#### 3.2. Top 5 leagues with the most players in the game"
   ]
  },
  {
   "cell_type": "code",
   "execution_count": 13,
   "metadata": {
    "colab": {
     "base_uri": "https://localhost:8080/",
     "height": 564
    },
    "executionInfo": {
     "elapsed": 646,
     "status": "ok",
     "timestamp": 1727616867364,
     "user": {
      "displayName": "Nghia Nguyen",
      "userId": "09671047802048051440"
     },
     "user_tz": -420
    },
    "id": "qoHeYIaeKeLG",
    "outputId": "e2a5d8c9-3432-47c6-abd4-10866a525d41"
   },
   "outputs": [
    {
     "data": {
      "image/png": "[encoded data removed]",
      "text/plain": [
       "<Figure size 1000x600 with 1 Axes>"
      ]
     },
     "metadata": {},
     "output_type": "display_data"
    }
   ],
   "source": [
    "top_league = players['League'].value_counts().head(5)\n",
    "top_league\n",
    "\n",
    "plt.figure(figsize=(10,6))\n",
    "ax=sns.barplot(x=top_league.index, y = top_league.values,palette=sns.husl_palette(5))\n",
    "for p in ax.patches:\n",
    "    ax.annotate(str(p.get_height()), (p.get_x()+p.get_width()/2, p.get_height() * 1.025),ha='center',va='center')\n",
    "plt.title('Top 5 leagues with the most players in the game')\n",
    "#plt.xticks(rotation = 30)\n",
    "plt.xlabel('Leagues')\n",
    "plt.ylabel('Number of players');"
   ]
  },
  {
   "cell_type": "markdown",
   "metadata": {
    "id": "ULM8oPgPKhVc"
   },
   "source": [
    "#### 3.3. Box plot of number of players by position"
   ]
  },
  {
   "cell_type": "code",
   "execution_count": 14,
   "metadata": {},
   "outputs": [
    {
     "data": {
      "image/png": "[encoded data removed]",
      "text/plain": [
       "<Figure size 1000x600 with 1 Axes>"
      ]
     },
     "metadata": {},
     "output_type": "display_data"
    }
   ],
   "source": [
    "plt.figure(figsize=(10,6))\n",
    "sns.boxplot(x=players['Position'],y=players['OVR'],palette=sns.husl_palette(8))\n",
    "plt.title('Box plot of number of players by position')\n",
    "plt.xlabel('Position')\n",
    "plt.ylabel('OVR');"
   ]
  },
  {
   "cell_type": "markdown",
   "metadata": {},
   "source": [
    "#### 3.4. Count the number of players in each position"
   ]
  },
  {
   "cell_type": "code",
   "execution_count": 48,
   "metadata": {},
   "outputs": [
    {
     "data": {
      "image/png": "[encoded data removed]",
      "text/plain": [
       "<Figure size 1200x800 with 1 Axes>"
      ]
     },
     "metadata": {},
     "output_type": "display_data"
    }
   ],
   "source": [
    "count_pos = players.groupby('Position')['Rank'].count().sort_values(ascending = False)\n",
    "count_pos\n",
    "\n",
    "plt.figure(figsize=(12,8))\n",
    "ax = sns.barplot(x=count_pos.index, y = count_pos.values,palette=sns.husl_palette(8))\n",
    "for p in ax.patches:\n",
    "    ax.annotate(str(p.get_height()), (p.get_x()+p.get_width()/2,p.get_height()*1.025),ha='center',va='center')\n",
    "plt.title('Count the number of players in each position')\n",
    "plt.xlabel('Positions')\n",
    "plt.ylabel('number of players');"
   ]
  },
  {
   "cell_type": "markdown",
   "metadata": {},
   "source": [
    "#### 3.5. Number of players by age"
   ]
  },
  {
   "cell_type": "code",
   "execution_count": 49,
   "metadata": {},
   "outputs": [
    {
     "data": {
      "text/plain": [
       "Age\n",
       "17     100\n",
       "18     360\n",
       "19     677\n",
       "20     968\n",
       "21    1185\n",
       "22    1218\n",
       "23    1282\n",
       "24    1306\n",
       "25    1224\n",
       "26    1156\n",
       "27    1198\n",
       "28     958\n",
       "29     903\n",
       "30     784\n",
       "31     725\n",
       "32     576\n",
       "33     500\n",
       "34     382\n",
       "35     248\n",
       "36     172\n",
       "37     119\n",
       "38      55\n",
       "39      32\n",
       "40      17\n",
       "41      10\n",
       "42       3\n",
       "43       2\n",
       "44       1\n",
       "Name: Rank, dtype: int64"
      ]
     },
     "execution_count": 49,
     "metadata": {},
     "output_type": "execute_result"
    }
   ],
   "source": [
    "count_age = players.groupby('Age')['Rank'].count()\n",
    "count_age"
   ]
  },
  {
   "cell_type": "code",
   "execution_count": 51,
   "metadata": {},
   "outputs": [
    {
     "data": {
      "image/png": "[encoded data removed]",
      "text/plain": [
       "<Figure size 1200x800 with 1 Axes>"
      ]
     },
     "metadata": {},
     "output_type": "display_data"
    }
   ],
   "source": [
    "plt.figure(figsize=(12,8))\n",
    "ax = sns.barplot(x=count_age.index, y = count_age.values,palette=sns.husl_palette(10))\n",
    "plt.xlabel('Age')\n",
    "plt.ylabel('Number of players');"
   ]
  },
  {
   "cell_type": "markdown",
   "metadata": {},
   "source": [
    "#### 3.6. Average age by position"
   ]
  },
  {
   "cell_type": "code",
   "execution_count": 47,
   "metadata": {},
   "outputs": [
    {
     "data": {
      "image/png": "[encoded data removed]",
      "text/plain": [
       "<Figure size 640x480 with 1 Axes>"
      ]
     },
     "metadata": {},
     "output_type": "display_data"
    }
   ],
   "source": [
    "mean_age_pos = players.groupby('Position')['Age'].mean().round(2)\n",
    "mean_age_pos\n",
    "ax=sns.barplot(x=mean_age_pos.index,y=mean_age_pos.values,palette=sns.husl_palette(8),width=0.9);\n",
    "for p in ax.patches:\n",
    "    ax.annotate(str(p.get_height()), (p.get_x()+p.get_width()/2,p.get_height()*1.025),ha='center',va='center')\n",
    "plt.title('Average age by position')\n",
    "plt.xlabel('Positions')\n",
    "plt.ylabel('Average age');"
   ]
  },
  {
   "cell_type": "markdown",
   "metadata": {},
   "source": [
    "#### 3.7. Player's left-right foot ratio"
   ]
  },
  {
   "cell_type": "code",
   "execution_count": 52,
   "metadata": {},
   "outputs": [
    {
     "data": {
      "text/plain": [
       "Preferred Foot\n",
       "Right    12264\n",
       "Left      3897\n",
       "Name: count, dtype: int64"
      ]
     },
     "execution_count": 52,
     "metadata": {},
     "output_type": "execute_result"
    }
   ],
   "source": [
    "pref_foot= players['Preferred Foot'].value_counts()\n",
    "pref_foot"
   ]
  },
  {
   "cell_type": "code",
   "execution_count": 53,
   "metadata": {},
   "outputs": [
    {
     "data": {
      "image/png": "[encoded data removed]",
      "text/plain": [
       "<Figure size 1000x600 with 1 Axes>"
      ]
     },
     "metadata": {},
     "output_type": "display_data"
    }
   ],
   "source": [
    "plt.figure(figsize=(10,6))\n",
    "plt.pie(x=pref_foot, labels = pref_foot.index, autopct='%1.1f%%',startangle=90,shadow=True,explode=(0.1,0));\n",
    "plt.title('Left-right foot ratio');"
   ]
  },
  {
   "cell_type": "markdown",
   "metadata": {},
   "source": [
    "#### 3.8. Player technical index"
   ]
  },
  {
   "cell_type": "code",
   "execution_count": 54,
   "metadata": {},
   "outputs": [
    {
     "data": {
      "text/plain": [
       "Skill moves\n",
       "2    7351\n",
       "3    5857\n",
       "1    1816\n",
       "4    1096\n",
       "5      41\n",
       "Name: count, dtype: int64"
      ]
     },
     "execution_count": 54,
     "metadata": {},
     "output_type": "execute_result"
    }
   ],
   "source": [
    "skill_move = players['Skill moves'].value_counts()\n",
    "skill_move"
   ]
  },
  {
   "cell_type": "code",
   "execution_count": 55,
   "metadata": {},
   "outputs": [
    {
     "data": {
      "image/png": "[encoded data removed]",
      "text/plain": [
       "<Figure size 640x480 with 1 Axes>"
      ]
     },
     "metadata": {},
     "output_type": "display_data"
    }
   ],
   "source": [
    "sns.barplot(x=skill_move.index, y = skill_move.values,palette=sns.husl_palette(10))\n",
    "plt.title('Player technical index');"
   ]
  },
  {
   "cell_type": "markdown",
   "metadata": {},
   "source": [
    "#### 3.9. Correlation between indices"
   ]
  },
  {
   "cell_type": "code",
   "execution_count": 56,
   "metadata": {},
   "outputs": [
    {
     "data": {
      "text/html": [
       "<div>\n",
       "<style scoped>\n",
       "    .dataframe tbody tr th:only-of-type {\n",
       "        vertical-align: middle;\n",
       "    }\n",
       "\n",
       "    .dataframe tbody tr th {\n",
       "        vertical-align: top;\n",
       "    }\n",
       "\n",
       "    .dataframe thead th {\n",
       "        text-align: right;\n",
       "    }\n",
       "</style>\n",
       "<table border=\"1\" class=\"dataframe\">\n",
       "  <thead>\n",
       "    <tr style=\"text-align: right;\">\n",
       "      <th></th>\n",
       "      <th>PAC</th>\n",
       "      <th>DEF</th>\n",
       "      <th>SHO</th>\n",
       "      <th>PAS</th>\n",
       "      <th>DRI</th>\n",
       "      <th>PHY</th>\n",
       "    </tr>\n",
       "  </thead>\n",
       "  <tbody>\n",
       "    <tr>\n",
       "      <th>PAC</th>\n",
       "      <td>1.000000</td>\n",
       "      <td>-0.196373</td>\n",
       "      <td>0.333178</td>\n",
       "      <td>0.283510</td>\n",
       "      <td>0.519334</td>\n",
       "      <td>-0.085405</td>\n",
       "    </tr>\n",
       "    <tr>\n",
       "      <th>DEF</th>\n",
       "      <td>-0.196373</td>\n",
       "      <td>1.000000</td>\n",
       "      <td>-0.408754</td>\n",
       "      <td>0.153771</td>\n",
       "      <td>-0.088188</td>\n",
       "      <td>0.498599</td>\n",
       "    </tr>\n",
       "    <tr>\n",
       "      <th>SHO</th>\n",
       "      <td>0.333178</td>\n",
       "      <td>-0.408754</td>\n",
       "      <td>1.000000</td>\n",
       "      <td>0.679161</td>\n",
       "      <td>0.772237</td>\n",
       "      <td>0.037739</td>\n",
       "    </tr>\n",
       "    <tr>\n",
       "      <th>PAS</th>\n",
       "      <td>0.283510</td>\n",
       "      <td>0.153771</td>\n",
       "      <td>0.679161</td>\n",
       "      <td>1.000000</td>\n",
       "      <td>0.850289</td>\n",
       "      <td>0.192398</td>\n",
       "    </tr>\n",
       "    <tr>\n",
       "      <th>DRI</th>\n",
       "      <td>0.519334</td>\n",
       "      <td>-0.088188</td>\n",
       "      <td>0.772237</td>\n",
       "      <td>0.850289</td>\n",
       "      <td>1.000000</td>\n",
       "      <td>0.079745</td>\n",
       "    </tr>\n",
       "    <tr>\n",
       "      <th>PHY</th>\n",
       "      <td>-0.085405</td>\n",
       "      <td>0.498599</td>\n",
       "      <td>0.037739</td>\n",
       "      <td>0.192398</td>\n",
       "      <td>0.079745</td>\n",
       "      <td>1.000000</td>\n",
       "    </tr>\n",
       "  </tbody>\n",
       "</table>\n",
       "</div>"
      ],
      "text/plain": [
       "          PAC       DEF       SHO       PAS       DRI       PHY\n",
       "PAC  1.000000 -0.196373  0.333178  0.283510  0.519334 -0.085405\n",
       "DEF -0.196373  1.000000 -0.408754  0.153771 -0.088188  0.498599\n",
       "SHO  0.333178 -0.408754  1.000000  0.679161  0.772237  0.037739\n",
       "PAS  0.283510  0.153771  0.679161  1.000000  0.850289  0.192398\n",
       "DRI  0.519334 -0.088188  0.772237  0.850289  1.000000  0.079745\n",
       "PHY -0.085405  0.498599  0.037739  0.192398  0.079745  1.000000"
      ]
     },
     "execution_count": 56,
     "metadata": {},
     "output_type": "execute_result"
    }
   ],
   "source": [
    "skills = players[['PAC','DEF','SHO','PAS','DRI','PHY']]\n",
    "skills.corr()"
   ]
  },
  {
   "cell_type": "code",
   "execution_count": 57,
   "metadata": {},
   "outputs": [
    {
     "data": {
      "image/png": "[encoded data removed]",
      "text/plain": [
       "<Figure size 1200x800 with 2 Axes>"
      ]
     },
     "metadata": {},
     "output_type": "display_data"
    }
   ],
   "source": [
    "plt.figure(figsize=(12,8))\n",
    "sns.heatmap(skills.corr(),annot=True)\n",
    "plt.title('Correlation between indices');"
   ]
  },
  {
   "cell_type": "markdown",
   "metadata": {
    "id": "UFZibvKucKDi"
   },
   "source": [
    "#### 3.10. Players with highest and lowest stats in the data"
   ]
  },
  {
   "cell_type": "code",
   "execution_count": 16,
   "metadata": {
    "colab": {
     "base_uri": "https://localhost:8080/",
     "height": 596
    },
    "executionInfo": {
     "elapsed": 764,
     "status": "ok",
     "timestamp": 1727616305130,
     "user": {
      "displayName": "Nghia Nguyen",
      "userId": "09671047802048051440"
     },
     "user_tz": -420
    },
    "id": "sc3btdFGiiwa",
    "outputId": "c712620a-be22-4a8d-f110-8e2a23ba9919"
   },
   "outputs": [
    {
     "name": "stdout",
     "output_type": "stream",
     "text": [
      "Player with highest stats in the data\n"
     ]
    },
    {
     "data": {
      "text/plain": [
       "Name        Kylian Mbappé\n",
       "OVR                    91\n",
       "Position               ST\n",
       "Age                    25\n",
       "Nation             France\n",
       "Team          Real Madrid\n",
       "Name: 0, dtype: object"
      ]
     },
     "metadata": {},
     "output_type": "display_data"
    },
    {
     "name": "stdout",
     "output_type": "stream",
     "text": [
      "\n",
      "\n",
      "Player with lowest stats in the data\n"
     ]
    },
    {
     "data": {
      "text/plain": [
       "Name         Mohammed Aimen\n",
       "OVR                      47\n",
       "Position                 ST\n",
       "Age                      21\n",
       "Nation                India\n",
       "Team        Kerala Blasters\n",
       "Name: 16140, dtype: object"
      ]
     },
     "metadata": {},
     "output_type": "display_data"
    }
   ],
   "source": [
    "player = players[['Name','OVR','Position','Age','Nation','Team']]\n",
    "# Highest stats\n",
    "max_ovr = player.loc[players['OVR'].idxmax()]\n",
    "# Lowest stats\n",
    "min_ovr = player.loc[players['OVR'].idxmin()]\n",
    "\n",
    "print('Player with highest stats in the data')\n",
    "display(max_ovr)\n",
    "\n",
    "print('\\n\\nPlayer with lowest stats in the data')\n",
    "display(min_ovr)"
   ]
  },
  {
   "cell_type": "markdown",
   "metadata": {
    "id": "kupTwo2ZgZ87"
   },
   "source": [
    "#### 3.11. Players with the highest and lowest OVR for each position"
   ]
  },
  {
   "cell_type": "code",
   "execution_count": 17,
   "metadata": {
    "colab": {
     "base_uri": "https://localhost:8080/",
     "height": 903
    },
    "executionInfo": {
     "elapsed": 854,
     "status": "ok",
     "timestamp": 1727616439713,
     "user": {
      "displayName": "Nghia Nguyen",
      "userId": "09671047802048051440"
     },
     "user_tz": -420
    },
    "id": "eSv0itBku4e8",
    "outputId": "8ec83d5f-8df6-4a6d-c64d-43317f1b9783"
   },
   "outputs": [
    {
     "name": "stdout",
     "output_type": "stream",
     "text": [
      "Players with the highest OVR for \n"
     ]
    },
    {
     "data": {
      "text/html": [
       "<div>\n",
       "<style scoped>\n",
       "    .dataframe tbody tr th:only-of-type {\n",
       "        vertical-align: middle;\n",
       "    }\n",
       "\n",
       "    .dataframe tbody tr th {\n",
       "        vertical-align: top;\n",
       "    }\n",
       "\n",
       "    .dataframe thead th {\n",
       "        text-align: right;\n",
       "    }\n",
       "</style>\n",
       "<table border=\"1\" class=\"dataframe\">\n",
       "  <thead>\n",
       "    <tr style=\"text-align: right;\">\n",
       "      <th></th>\n",
       "      <th>Name</th>\n",
       "      <th>OVR</th>\n",
       "      <th>Position</th>\n",
       "      <th>Age</th>\n",
       "      <th>Nation</th>\n",
       "      <th>Team</th>\n",
       "    </tr>\n",
       "  </thead>\n",
       "  <tbody>\n",
       "    <tr>\n",
       "      <th>3</th>\n",
       "      <td>Jude Bellingham</td>\n",
       "      <td>90</td>\n",
       "      <td>CAM</td>\n",
       "      <td>21</td>\n",
       "      <td>England</td>\n",
       "      <td>Real Madrid</td>\n",
       "    </tr>\n",
       "    <tr>\n",
       "      <th>12</th>\n",
       "      <td>Virgil van Dijk</td>\n",
       "      <td>89</td>\n",
       "      <td>CB</td>\n",
       "      <td>33</td>\n",
       "      <td>Holland</td>\n",
       "      <td>Liverpool</td>\n",
       "    </tr>\n",
       "    <tr>\n",
       "      <th>1</th>\n",
       "      <td>Rodri</td>\n",
       "      <td>91</td>\n",
       "      <td>CDM</td>\n",
       "      <td>28</td>\n",
       "      <td>Spain</td>\n",
       "      <td>Manchester City</td>\n",
       "    </tr>\n",
       "    <tr>\n",
       "      <th>5</th>\n",
       "      <td>Kevin De Bruyne</td>\n",
       "      <td>90</td>\n",
       "      <td>CM</td>\n",
       "      <td>33</td>\n",
       "      <td>Belgium</td>\n",
       "      <td>Manchester City</td>\n",
       "    </tr>\n",
       "    <tr>\n",
       "      <th>8</th>\n",
       "      <td>Gianluigi Donnarumma</td>\n",
       "      <td>89</td>\n",
       "      <td>GK</td>\n",
       "      <td>25</td>\n",
       "      <td>Italy</td>\n",
       "      <td>Paris SG</td>\n",
       "    </tr>\n",
       "    <tr>\n",
       "      <th>32</th>\n",
       "      <td>Theo Hernández</td>\n",
       "      <td>87</td>\n",
       "      <td>LB</td>\n",
       "      <td>26</td>\n",
       "      <td>France</td>\n",
       "      <td>Milano FC</td>\n",
       "    </tr>\n",
       "    <tr>\n",
       "      <th>51</th>\n",
       "      <td>Grimaldo</td>\n",
       "      <td>86</td>\n",
       "      <td>LM</td>\n",
       "      <td>28</td>\n",
       "      <td>Spain</td>\n",
       "      <td>Leverkusen</td>\n",
       "    </tr>\n",
       "    <tr>\n",
       "      <th>4</th>\n",
       "      <td>Vini Jr.</td>\n",
       "      <td>90</td>\n",
       "      <td>LW</td>\n",
       "      <td>24</td>\n",
       "      <td>Brazil</td>\n",
       "      <td>Real Madrid</td>\n",
       "    </tr>\n",
       "    <tr>\n",
       "      <th>54</th>\n",
       "      <td>Carvajal</td>\n",
       "      <td>86</td>\n",
       "      <td>RB</td>\n",
       "      <td>32</td>\n",
       "      <td>Spain</td>\n",
       "      <td>Real Madrid</td>\n",
       "    </tr>\n",
       "    <tr>\n",
       "      <th>76</th>\n",
       "      <td>Riyad Mahrez</td>\n",
       "      <td>85</td>\n",
       "      <td>RM</td>\n",
       "      <td>33</td>\n",
       "      <td>Algeria</td>\n",
       "      <td>Al Ahli</td>\n",
       "    </tr>\n",
       "    <tr>\n",
       "      <th>14</th>\n",
       "      <td>Mohamed Salah</td>\n",
       "      <td>89</td>\n",
       "      <td>RW</td>\n",
       "      <td>32</td>\n",
       "      <td>Egypt</td>\n",
       "      <td>Liverpool</td>\n",
       "    </tr>\n",
       "    <tr>\n",
       "      <th>0</th>\n",
       "      <td>Kylian Mbappé</td>\n",
       "      <td>91</td>\n",
       "      <td>ST</td>\n",
       "      <td>25</td>\n",
       "      <td>France</td>\n",
       "      <td>Real Madrid</td>\n",
       "    </tr>\n",
       "  </tbody>\n",
       "</table>\n",
       "</div>"
      ],
      "text/plain": [
       "                    Name  OVR Position  Age   Nation             Team\n",
       "3        Jude Bellingham   90      CAM   21  England      Real Madrid\n",
       "12       Virgil van Dijk   89       CB   33  Holland        Liverpool\n",
       "1                  Rodri   91      CDM   28    Spain  Manchester City\n",
       "5        Kevin De Bruyne   90       CM   33  Belgium  Manchester City\n",
       "8   Gianluigi Donnarumma   89       GK   25    Italy         Paris SG\n",
       "32        Theo Hernández   87       LB   26   France        Milano FC\n",
       "51              Grimaldo   86       LM   28    Spain       Leverkusen\n",
       "4               Vini Jr.   90       LW   24   Brazil      Real Madrid\n",
       "54              Carvajal   86       RB   32    Spain      Real Madrid\n",
       "76          Riyad Mahrez   85       RM   33  Algeria          Al Ahli\n",
       "14         Mohamed Salah   89       RW   32    Egypt        Liverpool\n",
       "0          Kylian Mbappé   91       ST   25   France      Real Madrid"
      ]
     },
     "metadata": {},
     "output_type": "display_data"
    },
    {
     "name": "stdout",
     "output_type": "stream",
     "text": [
      "\n",
      "\n",
      "Players with the lowest OVR for \n"
     ]
    },
    {
     "data": {
      "text/html": [
       "<div>\n",
       "<style scoped>\n",
       "    .dataframe tbody tr th:only-of-type {\n",
       "        vertical-align: middle;\n",
       "    }\n",
       "\n",
       "    .dataframe tbody tr th {\n",
       "        vertical-align: top;\n",
       "    }\n",
       "\n",
       "    .dataframe thead th {\n",
       "        text-align: right;\n",
       "    }\n",
       "</style>\n",
       "<table border=\"1\" class=\"dataframe\">\n",
       "  <thead>\n",
       "    <tr style=\"text-align: right;\">\n",
       "      <th></th>\n",
       "      <th>Name</th>\n",
       "      <th>OVR</th>\n",
       "      <th>Position</th>\n",
       "      <th>Age</th>\n",
       "      <th>Nation</th>\n",
       "      <th>Team</th>\n",
       "    </tr>\n",
       "  </thead>\n",
       "  <tbody>\n",
       "    <tr>\n",
       "      <th>16141</th>\n",
       "      <td>Fredy Chawngthansanga</td>\n",
       "      <td>47</td>\n",
       "      <td>CAM</td>\n",
       "      <td>21</td>\n",
       "      <td>India</td>\n",
       "      <td>NorthEast United</td>\n",
       "    </tr>\n",
       "    <tr>\n",
       "      <th>16116</th>\n",
       "      <td>Ham Sun Woo</td>\n",
       "      <td>48</td>\n",
       "      <td>CB</td>\n",
       "      <td>19</td>\n",
       "      <td>Korea Republic</td>\n",
       "      <td>FC Seoul</td>\n",
       "    </tr>\n",
       "    <tr>\n",
       "      <th>16147</th>\n",
       "      <td>Kim Dong Min</td>\n",
       "      <td>47</td>\n",
       "      <td>CDM</td>\n",
       "      <td>19</td>\n",
       "      <td>Korea Republic</td>\n",
       "      <td>Pohang Steelers</td>\n",
       "    </tr>\n",
       "    <tr>\n",
       "      <th>16142</th>\n",
       "      <td>Lalchungnunga Chhangte</td>\n",
       "      <td>47</td>\n",
       "      <td>CM</td>\n",
       "      <td>23</td>\n",
       "      <td>India</td>\n",
       "      <td>Hyderabad FC</td>\n",
       "    </tr>\n",
       "    <tr>\n",
       "      <th>16113</th>\n",
       "      <td>Deng Xiongtao</td>\n",
       "      <td>48</td>\n",
       "      <td>GK</td>\n",
       "      <td>22</td>\n",
       "      <td>China PR</td>\n",
       "      <td>Meizhou Hakka FC</td>\n",
       "    </tr>\n",
       "    <tr>\n",
       "      <th>16125</th>\n",
       "      <td>Tahir Reid-Brown</td>\n",
       "      <td>48</td>\n",
       "      <td>LB</td>\n",
       "      <td>18</td>\n",
       "      <td>United States</td>\n",
       "      <td>Orlando City</td>\n",
       "    </tr>\n",
       "    <tr>\n",
       "      <th>16091</th>\n",
       "      <td>Park Jae Hyun</td>\n",
       "      <td>49</td>\n",
       "      <td>LM</td>\n",
       "      <td>20</td>\n",
       "      <td>Korea Republic</td>\n",
       "      <td>Daegu FC</td>\n",
       "    </tr>\n",
       "    <tr>\n",
       "      <th>16109</th>\n",
       "      <td>Markus Anderson</td>\n",
       "      <td>48</td>\n",
       "      <td>LW</td>\n",
       "      <td>20</td>\n",
       "      <td>United States</td>\n",
       "      <td>Philadelphia</td>\n",
       "    </tr>\n",
       "    <tr>\n",
       "      <th>16155</th>\n",
       "      <td>Sajad Parray</td>\n",
       "      <td>47</td>\n",
       "      <td>RB</td>\n",
       "      <td>21</td>\n",
       "      <td>India</td>\n",
       "      <td>Mohammedan SC</td>\n",
       "    </tr>\n",
       "    <tr>\n",
       "      <th>16153</th>\n",
       "      <td>Park Hyung Woo</td>\n",
       "      <td>47</td>\n",
       "      <td>RM</td>\n",
       "      <td>20</td>\n",
       "      <td>Korea Republic</td>\n",
       "      <td>Pohang Steelers</td>\n",
       "    </tr>\n",
       "    <tr>\n",
       "      <th>16114</th>\n",
       "      <td>Qeyser Ezimet</td>\n",
       "      <td>48</td>\n",
       "      <td>RW</td>\n",
       "      <td>18</td>\n",
       "      <td>China PR</td>\n",
       "      <td>Rongcheng FC</td>\n",
       "    </tr>\n",
       "    <tr>\n",
       "      <th>16140</th>\n",
       "      <td>Mohammed Aimen</td>\n",
       "      <td>47</td>\n",
       "      <td>ST</td>\n",
       "      <td>21</td>\n",
       "      <td>India</td>\n",
       "      <td>Kerala Blasters</td>\n",
       "    </tr>\n",
       "  </tbody>\n",
       "</table>\n",
       "</div>"
      ],
      "text/plain": [
       "                         Name  OVR Position  Age          Nation  \\\n",
       "16141   Fredy Chawngthansanga   47      CAM   21           India   \n",
       "16116             Ham Sun Woo   48       CB   19  Korea Republic   \n",
       "16147            Kim Dong Min   47      CDM   19  Korea Republic   \n",
       "16142  Lalchungnunga Chhangte   47       CM   23           India   \n",
       "16113           Deng Xiongtao   48       GK   22        China PR   \n",
       "16125        Tahir Reid-Brown   48       LB   18   United States   \n",
       "16091           Park Jae Hyun   49       LM   20  Korea Republic   \n",
       "16109         Markus Anderson   48       LW   20   United States   \n",
       "16155            Sajad Parray   47       RB   21           India   \n",
       "16153          Park Hyung Woo   47       RM   20  Korea Republic   \n",
       "16114           Qeyser Ezimet   48       RW   18        China PR   \n",
       "16140          Mohammed Aimen   47       ST   21           India   \n",
       "\n",
       "                   Team  \n",
       "16141  NorthEast United  \n",
       "16116          FC Seoul  \n",
       "16147   Pohang Steelers  \n",
       "16142      Hyderabad FC  \n",
       "16113  Meizhou Hakka FC  \n",
       "16125      Orlando City  \n",
       "16091          Daegu FC  \n",
       "16109      Philadelphia  \n",
       "16155     Mohammedan SC  \n",
       "16153   Pohang Steelers  \n",
       "16114      Rongcheng FC  \n",
       "16140   Kerala Blasters  "
      ]
     },
     "metadata": {},
     "output_type": "display_data"
    }
   ],
   "source": [
    "max_ovr_pos = player.loc[player.groupby('Position')['OVR'].idxmax()]\n",
    "min_ovr_pos = player.loc[player.groupby('Position')['OVR'].idxmin()]\n",
    "\n",
    "print('Players with the highest OVR for ')\n",
    "display(max_ovr_pos)\n",
    "print('\\n\\nPlayers with the lowest OVR for ')\n",
    "display(min_ovr_pos)"
   ]
  },
  {
   "cell_type": "markdown",
   "metadata": {
    "id": "Xa02U2Heg0fV"
   },
   "source": [
    "#### 3.12. Number of players in the top 5 European leagues: \"Premier League\", \"Serie A Enilive\", \"LALIGA EA SPORTS\", \"Bundesliga\", \"Ligue 1 McDonald's\" ? What percentage of the total number of players is it?"
   ]
  },
  {
   "cell_type": "code",
   "execution_count": 18,
   "metadata": {
    "colab": {
     "base_uri": "https://localhost:8080/",
     "height": 272
    },
    "executionInfo": {
     "elapsed": 11,
     "status": "ok",
     "timestamp": 1727615465215,
     "user": {
      "displayName": "Nghia Nguyen",
      "userId": "09671047802048051440"
     },
     "user_tz": -420
    },
    "id": "XLCvXpIryw98",
    "outputId": "5c9452c3-23ac-45aa-c47a-3d431dcccb93"
   },
   "outputs": [
    {
     "data": {
      "text/plain": [
       "League\n",
       "Premier League        597\n",
       "Serie A Enilive       537\n",
       "LALIGA EA SPORTS      529\n",
       "Bundesliga            485\n",
       "Ligue 1 McDonald's    464\n",
       "Name: count, dtype: int64"
      ]
     },
     "execution_count": 18,
     "metadata": {},
     "output_type": "execute_result"
    }
   ],
   "source": [
    "five_league = [\"Premier League\",\"Bundesliga\",\"LALIGA EA SPORTS\",\"Serie A Enilive\",\"Ligue 1 McDonald's\"]\n",
    "five_eu_league = players[players['League'].isin(five_league)]\n",
    "player_five_league = five_eu_league['League'].value_counts()\n",
    "player_five_league"
   ]
  },
  {
   "cell_type": "code",
   "execution_count": 19,
   "metadata": {
    "colab": {
     "base_uri": "https://localhost:8080/",
     "height": 178
    },
    "executionInfo": {
     "elapsed": 18,
     "status": "ok",
     "timestamp": 1727615465982,
     "user": {
      "displayName": "Nghia Nguyen",
      "userId": "09671047802048051440"
     },
     "user_tz": -420
    },
    "id": "GR-QHE9mLLF8",
    "outputId": "cf9689c9-aa82-4bcc-80f9-a5cda4efd7c5"
   },
   "outputs": [
    {
     "data": {
      "text/plain": [
       "League\n",
       "False    13549\n",
       "True      2612\n",
       "Name: count, dtype: int64"
      ]
     },
     "execution_count": 19,
     "metadata": {},
     "output_type": "execute_result"
    }
   ],
   "source": [
    "#  What percentage of the total number of players is it?\n",
    "percent = players['League'].isin(five_league).value_counts()\n",
    "percent"
   ]
  },
  {
   "cell_type": "code",
   "execution_count": 61,
   "metadata": {
    "colab": {
     "base_uri": "https://localhost:8080/",
     "height": 538
    },
    "executionInfo": {
     "elapsed": 1008,
     "status": "ok",
     "timestamp": 1727617056979,
     "user": {
      "displayName": "Nghia Nguyen",
      "userId": "09671047802048051440"
     },
     "user_tz": -420
    },
    "id": "y2U6KWOSNw3H",
    "outputId": "8813beb5-3b20-443b-c4fd-bbf33909e698"
   },
   "outputs": [
    {
     "data": {
      "image/png": "[encoded data removed]",
      "text/plain": [
       "<Figure size 1000x600 with 1 Axes>"
      ]
     },
     "metadata": {},
     "output_type": "display_data"
    }
   ],
   "source": [
    "plt.figure(figsize=(10,6))\n",
    "plt.pie(percent,labels=percent.index,explode=(0.1,0),autopct='%1.1f%%',startangle=90,shadow=True)\n",
    "plt.title(' Percentage of the top 5 European leagues');"
   ]
  },
  {
   "cell_type": "markdown",
   "metadata": {
    "id": "T0mDWDqT25F9"
   },
   "source": [
    "#### 3.13. Top 10 leagues with the highest average OVR"
   ]
  },
  {
   "cell_type": "code",
   "execution_count": 21,
   "metadata": {
    "colab": {
     "base_uri": "https://localhost:8080/",
     "height": 429
    },
    "executionInfo": {
     "elapsed": 8,
     "status": "ok",
     "timestamp": 1727615466464,
     "user": {
      "displayName": "Nghia Nguyen",
      "userId": "09671047802048051440"
     },
     "user_tz": -420
    },
    "id": "MH6rdHbi3E3j",
    "outputId": "097ad38d-8a78-47a8-8646-d4240044c04d"
   },
   "outputs": [
    {
     "data": {
      "text/plain": [
       "League\n",
       "Premier League        74.27\n",
       "LALIGA EA SPORTS      73.87\n",
       "Serie A Enilive       73.27\n",
       "Bundesliga            72.76\n",
       "Hellas Liga           72.51\n",
       "Ligue 1 McDonald's    71.94\n",
       "Česká Liga            71.90\n",
       "Liga Portugal         69.72\n",
       "Ukrayina Liha         69.50\n",
       "Magyar Liga           68.97\n",
       "Name: OVR, dtype: float64"
      ]
     },
     "execution_count": 21,
     "metadata": {},
     "output_type": "execute_result"
    }
   ],
   "source": [
    "mean_ovr_league = players.groupby('League')['OVR'].mean().round(2).sort_values(ascending = False).head(10)\n",
    "mean_ovr_league"
   ]
  },
  {
   "cell_type": "markdown",
   "metadata": {
    "id": "m68WYMAWg08j"
   },
   "source": [
    "#### 3.14. Top 10 clubs with the highest average OVR"
   ]
  },
  {
   "cell_type": "code",
   "execution_count": 22,
   "metadata": {
    "colab": {
     "base_uri": "https://localhost:8080/",
     "height": 429
    },
    "executionInfo": {
     "elapsed": 13,
     "status": "ok",
     "timestamp": 1727615468491,
     "user": {
      "displayName": "Nghia Nguyen",
      "userId": "09671047802048051440"
     },
     "user_tz": -420
    },
    "id": "0nCWFY-y17tM",
    "outputId": "77a3f29c-62f8-44bd-b346-e3eda238ed95"
   },
   "outputs": [
    {
     "data": {
      "text/plain": [
       "Team\n",
       "Real Madrid           81.48\n",
       "Lombardia FC          79.63\n",
       "FC Bayern München     79.44\n",
       "Manchester City       79.39\n",
       "Leverkusen            78.92\n",
       "Atlético de Madrid    78.85\n",
       "Milano FC             78.65\n",
       "Paris SG              78.33\n",
       "Juventus              78.25\n",
       "Borussia Dortmund     78.00\n",
       "Name: OVR, dtype: float64"
      ]
     },
     "execution_count": 22,
     "metadata": {},
     "output_type": "execute_result"
    }
   ],
   "source": [
    "mean_ovr_team = players.groupby('Team')['OVR'].mean().round(2).sort_values(ascending = False).head(10)\n",
    "mean_ovr_team"
   ]
  },
  {
   "cell_type": "code",
   "execution_count": 23,
   "metadata": {
    "colab": {
     "base_uri": "https://localhost:8080/",
     "height": 452
    },
    "executionInfo": {
     "elapsed": 995,
     "status": "ok",
     "timestamp": 1727617160681,
     "user": {
      "displayName": "Nghia Nguyen",
      "userId": "09671047802048051440"
     },
     "user_tz": -420
    },
    "id": "QlNoMy7q5hh-",
    "outputId": "48b41c26-f0f4-48f0-e089-3decb1bf853a"
   },
   "outputs": [
    {
     "data": {
      "image/png": "[encoded data removed]",
      "text/plain": [
       "<Figure size 640x480 with 1 Axes>"
      ]
     },
     "metadata": {},
     "output_type": "display_data"
    }
   ],
   "source": [
    "ax=sns.barplot(x=mean_ovr_team.values,y=mean_ovr_team.index,palette=sns.husl_palette(10))\n",
    "for p in ax.patches:\n",
    "    ax.annotate(str(p.get_width()), (p.get_x()+p.get_width()/2,p.get_y()+p.get_height()/2),ha='center',va='center')\n",
    "plt.title('Top 10 clubs with the highest average OVR');"
   ]
  }
 ],
 "metadata": {
  "accelerator": "GPU",
  "colab": {
   "authorship_tag": "ABX9TyNfrd7eeOMJ+fZZe/3dW6S6",
   "collapsed_sections": [
    "q9XMxPKAXhXp",
    "EeS7cU4aXwt9"
   ],
   "gpuType": "T4",
   "provenance": []
  },
  "kernelspec": {
   "display_name": "Python 3 (ipykernel)",
   "language": "python",
   "name": "python3"
  },
  "language_info": {
   "codemirror_mode": {
    "name": "ipython",
    "version": 3
   },
   "file_extension": ".py",
   "mimetype": "text/x-python",
   "name": "python",
   "nbconvert_exporter": "python",
   "pygments_lexer": "ipython3",
   "version": "3.12.6"
  }
 },
 "nbformat": 4,
 "nbformat_minor": 4
}
